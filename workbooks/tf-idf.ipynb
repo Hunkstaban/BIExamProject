{
 "cells": [
  {
   "cell_type": "code",
   "execution_count": 179,
   "id": "843dd346",
   "metadata": {},
   "outputs": [],
   "source": [
    "import pandas as pd\n",
    "from sklearn.feature_extraction.text import TfidfVectorizer\n",
    "from sklearn.metrics.pairwise import cosine_similarity\n",
    "import joblib\n",
    "import ast"
   ]
  },
  {
   "cell_type": "code",
   "execution_count": 143,
   "id": "06eee0fe",
   "metadata": {},
   "outputs": [],
   "source": [
    "# Load your data\n",
    "movies = pd.read_csv('../data/movies_dataset.csv')"
   ]
  },
  {
   "cell_type": "code",
   "execution_count": 144,
   "id": "38655ce4",
   "metadata": {},
   "outputs": [],
   "source": [
    "# Convert columns from string to list\n",
    "for col in ['genres', 'top_cast', 'keywords']:\n",
    "    movies[col] = movies[col].apply(ast.literal_eval)"
   ]
  },
  {
   "cell_type": "code",
   "execution_count": 145,
   "id": "8ec68276",
   "metadata": {},
   "outputs": [
    {
     "data": {
      "text/html": [
       "<div>\n",
       "<style scoped>\n",
       "    .dataframe tbody tr th:only-of-type {\n",
       "        vertical-align: middle;\n",
       "    }\n",
       "\n",
       "    .dataframe tbody tr th {\n",
       "        vertical-align: top;\n",
       "    }\n",
       "\n",
       "    .dataframe thead th {\n",
       "        text-align: right;\n",
       "    }\n",
       "</style>\n",
       "<table border=\"1\" class=\"dataframe\">\n",
       "  <thead>\n",
       "    <tr style=\"text-align: right;\">\n",
       "      <th></th>\n",
       "      <th>budget</th>\n",
       "      <th>id</th>\n",
       "      <th>original_language</th>\n",
       "      <th>revenue</th>\n",
       "      <th>runtime</th>\n",
       "      <th>title</th>\n",
       "      <th>vote_average</th>\n",
       "      <th>vote_count</th>\n",
       "      <th>top_cast</th>\n",
       "      <th>director</th>\n",
       "      <th>genres</th>\n",
       "      <th>keywords</th>\n",
       "      <th>release_year</th>\n",
       "      <th>profit</th>\n",
       "      <th>decade</th>\n",
       "    </tr>\n",
       "  </thead>\n",
       "  <tbody>\n",
       "    <tr>\n",
       "      <th>0</th>\n",
       "      <td>30000000.0</td>\n",
       "      <td>862</td>\n",
       "      <td>en</td>\n",
       "      <td>373554033.0</td>\n",
       "      <td>81.0</td>\n",
       "      <td>Toy Story</td>\n",
       "      <td>7.7</td>\n",
       "      <td>5415.0</td>\n",
       "      <td>[Tom Hanks, Tim Allen, Don Rickles, Jim Varney...</td>\n",
       "      <td>John Lasseter</td>\n",
       "      <td>[Animation, Comedy, Family]</td>\n",
       "      <td>[jealousy, toy, boy, friendship, friends, riva...</td>\n",
       "      <td>1995</td>\n",
       "      <td>343554033.0</td>\n",
       "      <td>1990</td>\n",
       "    </tr>\n",
       "  </tbody>\n",
       "</table>\n",
       "</div>"
      ],
      "text/plain": [
       "       budget   id original_language      revenue  runtime      title  \\\n",
       "0  30000000.0  862                en  373554033.0     81.0  Toy Story   \n",
       "\n",
       "   vote_average  vote_count  \\\n",
       "0           7.7      5415.0   \n",
       "\n",
       "                                            top_cast       director  \\\n",
       "0  [Tom Hanks, Tim Allen, Don Rickles, Jim Varney...  John Lasseter   \n",
       "\n",
       "                        genres  \\\n",
       "0  [Animation, Comedy, Family]   \n",
       "\n",
       "                                            keywords  release_year  \\\n",
       "0  [jealousy, toy, boy, friendship, friends, riva...          1995   \n",
       "\n",
       "        profit  decade  \n",
       "0  343554033.0    1990  "
      ]
     },
     "execution_count": 145,
     "metadata": {},
     "output_type": "execute_result"
    }
   ],
   "source": [
    "movies.head(1)"
   ]
  },
  {
   "cell_type": "code",
   "execution_count": 170,
   "id": "a9548840",
   "metadata": {},
   "outputs": [],
   "source": [
    "def preprocess_movie_text(row):\n",
    "    # Preprocesses the text features into a single feature to be used in NLP \n",
    " \n",
    "    # Cleaning and combining text features\n",
    "    title = row['title'].lower().replace(' ', '_') if pd.notna(row['title']) else ''\n",
    "    genres = ' '.join([g.lower().replace(' ', '_') for g in row['genres']])\n",
    "    cast = ' '.join([actor.lower().replace(' ', '_') for actor in row['top_cast'][:3]])\n",
    "    keywords = ' '.join([kw.lower().replace(' ', '_') for kw in row['keywords'][:5]])\n",
    "    director = row['director'].lower().replace(' ', '_') if pd.notna(row['director']) else ''\n",
    "    \n",
    "    nlp = f\"{title} {genres} {cast} {keywords} {director}\"\n",
    "    return nlp\n",
    "\n",
    "movies['nlp'] = movies.apply(preprocess_movie_text, axis=1)"
   ]
  },
  {
   "cell_type": "code",
   "execution_count": 171,
   "id": "27902eb8",
   "metadata": {},
   "outputs": [
    {
     "data": {
      "text/html": [
       "<div>\n",
       "<style scoped>\n",
       "    .dataframe tbody tr th:only-of-type {\n",
       "        vertical-align: middle;\n",
       "    }\n",
       "\n",
       "    .dataframe tbody tr th {\n",
       "        vertical-align: top;\n",
       "    }\n",
       "\n",
       "    .dataframe thead th {\n",
       "        text-align: right;\n",
       "    }\n",
       "</style>\n",
       "<table border=\"1\" class=\"dataframe\">\n",
       "  <thead>\n",
       "    <tr style=\"text-align: right;\">\n",
       "      <th></th>\n",
       "      <th>budget</th>\n",
       "      <th>id</th>\n",
       "      <th>original_language</th>\n",
       "      <th>revenue</th>\n",
       "      <th>runtime</th>\n",
       "      <th>title</th>\n",
       "      <th>vote_average</th>\n",
       "      <th>vote_count</th>\n",
       "      <th>top_cast</th>\n",
       "      <th>director</th>\n",
       "      <th>genres</th>\n",
       "      <th>keywords</th>\n",
       "      <th>release_year</th>\n",
       "      <th>profit</th>\n",
       "      <th>decade</th>\n",
       "      <th>nlp</th>\n",
       "    </tr>\n",
       "  </thead>\n",
       "  <tbody>\n",
       "    <tr>\n",
       "      <th>0</th>\n",
       "      <td>30000000.0</td>\n",
       "      <td>862</td>\n",
       "      <td>en</td>\n",
       "      <td>373554033.0</td>\n",
       "      <td>81.0</td>\n",
       "      <td>Toy Story</td>\n",
       "      <td>7.7</td>\n",
       "      <td>5415.0</td>\n",
       "      <td>[Tom Hanks, Tim Allen, Don Rickles, Jim Varney...</td>\n",
       "      <td>John Lasseter</td>\n",
       "      <td>[Animation, Comedy, Family]</td>\n",
       "      <td>[jealousy, toy, boy, friendship, friends, riva...</td>\n",
       "      <td>1995</td>\n",
       "      <td>343554033.0</td>\n",
       "      <td>1990</td>\n",
       "      <td>toy_story animation comedy family tom_hanks ti...</td>\n",
       "    </tr>\n",
       "  </tbody>\n",
       "</table>\n",
       "</div>"
      ],
      "text/plain": [
       "       budget   id original_language      revenue  runtime      title  \\\n",
       "0  30000000.0  862                en  373554033.0     81.0  Toy Story   \n",
       "\n",
       "   vote_average  vote_count  \\\n",
       "0           7.7      5415.0   \n",
       "\n",
       "                                            top_cast       director  \\\n",
       "0  [Tom Hanks, Tim Allen, Don Rickles, Jim Varney...  John Lasseter   \n",
       "\n",
       "                        genres  \\\n",
       "0  [Animation, Comedy, Family]   \n",
       "\n",
       "                                            keywords  release_year  \\\n",
       "0  [jealousy, toy, boy, friendship, friends, riva...          1995   \n",
       "\n",
       "        profit  decade                                                nlp  \n",
       "0  343554033.0    1990  toy_story animation comedy family tom_hanks ti...  "
      ]
     },
     "execution_count": 171,
     "metadata": {},
     "output_type": "execute_result"
    }
   ],
   "source": [
    "movies.head(1)"
   ]
  },
  {
   "cell_type": "code",
   "execution_count": 172,
   "id": "7b332ba9",
   "metadata": {},
   "outputs": [
    {
     "name": "stdout",
     "output_type": "stream",
     "text": [
      "Example movie nlp:\n",
      "\n",
      "Movie: Toy Story\n",
      "NLP: toy_story animation comedy family tom_hanks tim_allen don_rickles jealousy toy boy friendship friends john_lasseter\n",
      "\n",
      "Movie: Jumanji\n",
      "NLP: jumanji adventure fantasy family robin_williams jonathan_hyde kirsten_dunst board_game disappearance based_on_children's_book new_home recluse joe_johnston\n",
      "\n",
      "Movie: Waiting to Exhale\n",
      "NLP: waiting_to_exhale comedy drama romance whitney_houston angela_bassett loretta_devine based_on_novel interracial_relationship single_mother divorce chick_flick forest_whitaker\n"
     ]
    }
   ],
   "source": [
    "# Display example of text preprocessing\n",
    "print(\"Example movie nlp:\")\n",
    "for i in range(3):\n",
    "    print(f\"\\nMovie: {movies.iloc[i]['title']}\")\n",
    "    print(f\"NLP: {movies.iloc[i]['nlp']}\")"
   ]
  },
  {
   "cell_type": "code",
   "execution_count": 173,
   "id": "0bf9e7b8",
   "metadata": {},
   "outputs": [],
   "source": [
    "tfidf = TfidfVectorizer(stop_words='english')\n",
    "tfidf_matrix = tfidf.fit_transform(movies['nlp'])\n"
   ]
  },
  {
   "cell_type": "code",
   "execution_count": 174,
   "id": "60ce39aa",
   "metadata": {},
   "outputs": [
    {
     "name": "stdout",
     "output_type": "stream",
     "text": [
      "TF-IDF Matrix shape: (4940, 18151)\n",
      "Number of features: 18151\n"
     ]
    }
   ],
   "source": [
    "print(f\"TF-IDF Matrix shape: {tfidf_matrix.shape}\")\n",
    "print(f\"Number of features: {len(tfidf.get_feature_names_out())}\")"
   ]
  },
  {
   "cell_type": "code",
   "execution_count": 151,
   "id": "76cc77c7",
   "metadata": {},
   "outputs": [
    {
     "name": "stdout",
     "output_type": "stream",
     "text": [
      "Top 20 TF-IDF features:\n",
      "drama: 188.19\n",
      "comedy: 165.89\n",
      "thriller: 147.52\n",
      "action: 140.50\n",
      "romance: 113.54\n",
      "adventure: 110.86\n",
      "crime: 105.81\n",
      "science_fiction: 84.86\n",
      "horror: 81.35\n",
      "family: 78.56\n",
      "fantasy: 74.22\n",
      "mystery: 67.10\n",
      "animation: 52.14\n",
      "based_on_novel: 46.68\n",
      "music: 36.23\n",
      "war: 36.22\n",
      "history: 34.15\n",
      "independent_film: 29.12\n",
      "sex: 26.83\n",
      "duringcreditsstinger: 25.23\n"
     ]
    }
   ],
   "source": [
    "feature_names = tfidf.get_feature_names_out()\n",
    "tfidf_scores = tfidf_matrix.sum(axis=0).A1\n",
    "feature_importance = list(zip(feature_names, tfidf_scores))\n",
    "feature_importance.sort(key=lambda x: x[1], reverse=True)\n",
    "\n",
    "print(\"Top 20 TF-IDF features:\")\n",
    "for feature, score in feature_importance[:20]:\n",
    "    print(f\"{feature}: {score:.2f}\")"
   ]
  },
  {
   "cell_type": "code",
   "execution_count": 175,
   "id": "14cf84f0",
   "metadata": {},
   "outputs": [],
   "source": [
    "cosine_sim = cosine_similarity(tfidf_matrix, tfidf_matrix)"
   ]
  },
  {
   "cell_type": "code",
   "execution_count": 176,
   "id": "173e73dd",
   "metadata": {},
   "outputs": [],
   "source": [
    "movies = movies.reset_index(drop=True)\n",
    "indices = pd.Series(movies.index, index=movies['title']).drop_duplicates()\n",
    "\n",
    "def get_recommendations(title, cosine_sim=cosine_sim, n=5):\n",
    "    if title not in indices:\n",
    "        return f\"Movie '{title}' not found in dataset.\"\n",
    "    idx = indices[title]\n",
    "    sim_scores = list(enumerate(cosine_sim[idx]))\n",
    "    sim_scores = sorted(sim_scores, key=lambda x: x[1], reverse=True)\n",
    "    sim_scores = sim_scores[1:n+1]  # Skip the first one (it's the movie itself)\n",
    "    movie_indices = [i[0] for i in sim_scores]\n",
    "    scores = [i[1] for i in sim_scores]\n",
    "    # Build a DataFrame with the results and similarity scores\n",
    "    result = movies[['title', 'genres', 'vote_average']].iloc[movie_indices].copy()\n",
    "    result['similarity'] = scores\n",
    "    return result"
   ]
  },
  {
   "cell_type": "code",
   "execution_count": 178,
   "id": "ba8c18b2",
   "metadata": {},
   "outputs": [
    {
     "name": "stdout",
     "output_type": "stream",
     "text": [
      "NLP-based recommendations for 'The Dark Knight':\n",
      "               title                                         genres  \\\n",
      "2426   Batman Begins                         [Action, Crime, Drama]   \n",
      "2689    The Prestige                     [Drama, Mystery, Thriller]   \n",
      "442   Batman Returns                              [Action, Fantasy]   \n",
      "202           Batman                              [Fantasy, Action]   \n",
      "905         Superman  [Action, Adventure, Fantasy, Science Fiction]   \n",
      "\n",
      "      vote_average  similarity  \n",
      "2426           7.5    0.549407  \n",
      "2689           8.0    0.296543  \n",
      "442            6.6    0.179020  \n",
      "202            7.0    0.169642  \n",
      "905            6.9    0.167064  \n"
     ]
    }
   ],
   "source": [
    "# Test the NLP recommendation system\n",
    "test_movie = \"The Dark Knight\"\n",
    "recommendations = get_recommendations(test_movie)\n",
    "print(f\"NLP-based recommendations for '{test_movie}':\")\n",
    "print(recommendations)"
   ]
  },
  {
   "cell_type": "code",
   "execution_count": 180,
   "id": "957a7195",
   "metadata": {},
   "outputs": [
    {
     "data": {
      "text/plain": [
       "['../models/tfidf_vectorizer.joblib']"
      ]
     },
     "execution_count": 180,
     "metadata": {},
     "output_type": "execute_result"
    }
   ],
   "source": [
    "# Saving the vectorizer\n",
    "joblib.dump(tfidf, '../models/tfidf_vectorizer.joblib')"
   ]
  },
  {
   "cell_type": "code",
   "execution_count": 181,
   "id": "81162170",
   "metadata": {},
   "outputs": [],
   "source": [
    "# New dataframes with combined features for NLP\n",
    "movies.to_csv('../data/movies_with_nlp.csv', index=False)"
   ]
  }
 ],
 "metadata": {
  "language_info": {
   "name": "python"
  }
 },
 "nbformat": 4,
 "nbformat_minor": 5
}
