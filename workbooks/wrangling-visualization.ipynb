{
 "cells": [
  {
   "cell_type": "markdown",
   "id": "8b0657d0",
   "metadata": {},
   "source": [
    "# Further Preprocessing and Visualization of the data"
   ]
  },
  {
   "cell_type": "code",
   "execution_count": 43,
   "id": "9164de8d",
   "metadata": {},
   "outputs": [],
   "source": [
    "# Imports\n",
    "import pandas as pd\n",
    "import numpy as np\n",
    "import ast\n",
    "import matplotlib.pyplot as plt\n",
    "import seaborn as sns\n",
    "import json\n",
    "import ast\n",
    "from datetime import datetime\n",
    "import re\n",
    "from sklearn.preprocessing import MultiLabelBinarizer"
   ]
  },
  {
   "cell_type": "markdown",
   "id": "10f73592",
   "metadata": {},
   "source": [
    "Using the merged dataframe from the intial preprocessing"
   ]
  },
  {
   "cell_type": "code",
   "execution_count": 26,
   "id": "c700b80c",
   "metadata": {},
   "outputs": [],
   "source": [
    "movies = pd.read_csv('../data/merged_dataset.csv')"
   ]
  },
  {
   "cell_type": "code",
   "execution_count": 27,
   "id": "40cbc8cb",
   "metadata": {},
   "outputs": [
    {
     "data": {
      "text/plain": [
       "(22914, 14)"
      ]
     },
     "execution_count": 27,
     "metadata": {},
     "output_type": "execute_result"
    }
   ],
   "source": [
    "movies.shape"
   ]
  },
  {
   "cell_type": "code",
   "execution_count": 28,
   "id": "0433e8bd",
   "metadata": {},
   "outputs": [
    {
     "data": {
      "text/html": [
       "<div>\n",
       "<style scoped>\n",
       "    .dataframe tbody tr th:only-of-type {\n",
       "        vertical-align: middle;\n",
       "    }\n",
       "\n",
       "    .dataframe tbody tr th {\n",
       "        vertical-align: top;\n",
       "    }\n",
       "\n",
       "    .dataframe thead th {\n",
       "        text-align: right;\n",
       "    }\n",
       "</style>\n",
       "<table border=\"1\" class=\"dataframe\">\n",
       "  <thead>\n",
       "    <tr style=\"text-align: right;\">\n",
       "      <th></th>\n",
       "      <th>budget</th>\n",
       "      <th>genres</th>\n",
       "      <th>id</th>\n",
       "      <th>original_language</th>\n",
       "      <th>popularity</th>\n",
       "      <th>release_date</th>\n",
       "      <th>revenue</th>\n",
       "      <th>runtime</th>\n",
       "      <th>title</th>\n",
       "      <th>vote_average</th>\n",
       "      <th>vote_count</th>\n",
       "      <th>keywords</th>\n",
       "      <th>top_cast</th>\n",
       "      <th>director</th>\n",
       "    </tr>\n",
       "  </thead>\n",
       "  <tbody>\n",
       "    <tr>\n",
       "      <th>0</th>\n",
       "      <td>30000000</td>\n",
       "      <td>[{'id': 16, 'name': 'Animation'}, {'id': 35, '...</td>\n",
       "      <td>862</td>\n",
       "      <td>en</td>\n",
       "      <td>21.946943</td>\n",
       "      <td>1995-10-30</td>\n",
       "      <td>373554033.0</td>\n",
       "      <td>81.0</td>\n",
       "      <td>Toy Story</td>\n",
       "      <td>7.7</td>\n",
       "      <td>5415.0</td>\n",
       "      <td>[{'id': 931, 'name': 'jealousy'}, {'id': 4290,...</td>\n",
       "      <td>['Tom Hanks', 'Tim Allen', 'Don Rickles', 'Jim...</td>\n",
       "      <td>John Lasseter</td>\n",
       "    </tr>\n",
       "    <tr>\n",
       "      <th>1</th>\n",
       "      <td>65000000</td>\n",
       "      <td>[{'id': 12, 'name': 'Adventure'}, {'id': 14, '...</td>\n",
       "      <td>8844</td>\n",
       "      <td>en</td>\n",
       "      <td>17.015539</td>\n",
       "      <td>1995-12-15</td>\n",
       "      <td>262797249.0</td>\n",
       "      <td>104.0</td>\n",
       "      <td>Jumanji</td>\n",
       "      <td>6.9</td>\n",
       "      <td>2413.0</td>\n",
       "      <td>[{'id': 10090, 'name': 'board game'}, {'id': 1...</td>\n",
       "      <td>['Robin Williams', 'Jonathan Hyde', 'Kirsten D...</td>\n",
       "      <td>Joe Johnston</td>\n",
       "    </tr>\n",
       "    <tr>\n",
       "      <th>2</th>\n",
       "      <td>0</td>\n",
       "      <td>[{'id': 10749, 'name': 'Romance'}, {'id': 35, ...</td>\n",
       "      <td>15602</td>\n",
       "      <td>en</td>\n",
       "      <td>11.712900</td>\n",
       "      <td>1995-12-22</td>\n",
       "      <td>0.0</td>\n",
       "      <td>101.0</td>\n",
       "      <td>Grumpier Old Men</td>\n",
       "      <td>6.5</td>\n",
       "      <td>92.0</td>\n",
       "      <td>[{'id': 1495, 'name': 'fishing'}, {'id': 12392...</td>\n",
       "      <td>['Walter Matthau', 'Jack Lemmon', 'Ann-Margret...</td>\n",
       "      <td>Howard Deutch</td>\n",
       "    </tr>\n",
       "  </tbody>\n",
       "</table>\n",
       "</div>"
      ],
      "text/plain": [
       "     budget                                             genres     id  \\\n",
       "0  30000000  [{'id': 16, 'name': 'Animation'}, {'id': 35, '...    862   \n",
       "1  65000000  [{'id': 12, 'name': 'Adventure'}, {'id': 14, '...   8844   \n",
       "2         0  [{'id': 10749, 'name': 'Romance'}, {'id': 35, ...  15602   \n",
       "\n",
       "  original_language  popularity release_date      revenue  runtime  \\\n",
       "0                en   21.946943   1995-10-30  373554033.0     81.0   \n",
       "1                en   17.015539   1995-12-15  262797249.0    104.0   \n",
       "2                en   11.712900   1995-12-22          0.0    101.0   \n",
       "\n",
       "              title  vote_average  vote_count  \\\n",
       "0         Toy Story           7.7      5415.0   \n",
       "1           Jumanji           6.9      2413.0   \n",
       "2  Grumpier Old Men           6.5        92.0   \n",
       "\n",
       "                                            keywords  \\\n",
       "0  [{'id': 931, 'name': 'jealousy'}, {'id': 4290,...   \n",
       "1  [{'id': 10090, 'name': 'board game'}, {'id': 1...   \n",
       "2  [{'id': 1495, 'name': 'fishing'}, {'id': 12392...   \n",
       "\n",
       "                                            top_cast       director  \n",
       "0  ['Tom Hanks', 'Tim Allen', 'Don Rickles', 'Jim...  John Lasseter  \n",
       "1  ['Robin Williams', 'Jonathan Hyde', 'Kirsten D...   Joe Johnston  \n",
       "2  ['Walter Matthau', 'Jack Lemmon', 'Ann-Margret...  Howard Deutch  "
      ]
     },
     "execution_count": 28,
     "metadata": {},
     "output_type": "execute_result"
    }
   ],
   "source": [
    "movies.head(3)"
   ]
  },
  {
   "cell_type": "markdown",
   "id": "98a18dce",
   "metadata": {},
   "source": [
    "Since the 'genres' and 'keywords' columns are still JSON objects, I will be extracting the names alone for them for future processing "
   ]
  },
  {
   "cell_type": "code",
   "execution_count": 29,
   "id": "c8c70ea5",
   "metadata": {},
   "outputs": [],
   "source": [
    "# Extracting genre names from the genres column\n",
    "def extract_genres(genre_data):\n",
    "    if isinstance(genre_data, str):\n",
    "        try:\n",
    "            genres = ast.literal_eval(genre_data)\n",
    "            return [genre['name'] for genre in genres]\n",
    "        except (ValueError, SyntaxError):\n",
    "            return []\n",
    "    elif isinstance(genre_data, list):\n",
    "        return [genre['name'] for genre in genre_data]\n",
    "    return []\n",
    "\n",
    "movies['genre_names'] = movies['genres'].apply(extract_genres)"
   ]
  },
  {
   "cell_type": "code",
   "execution_count": 30,
   "id": "a567995c",
   "metadata": {},
   "outputs": [
    {
     "data": {
      "text/html": [
       "<div>\n",
       "<style scoped>\n",
       "    .dataframe tbody tr th:only-of-type {\n",
       "        vertical-align: middle;\n",
       "    }\n",
       "\n",
       "    .dataframe tbody tr th {\n",
       "        vertical-align: top;\n",
       "    }\n",
       "\n",
       "    .dataframe thead th {\n",
       "        text-align: right;\n",
       "    }\n",
       "</style>\n",
       "<table border=\"1\" class=\"dataframe\">\n",
       "  <thead>\n",
       "    <tr style=\"text-align: right;\">\n",
       "      <th></th>\n",
       "      <th>budget</th>\n",
       "      <th>genres</th>\n",
       "      <th>id</th>\n",
       "      <th>original_language</th>\n",
       "      <th>popularity</th>\n",
       "      <th>release_date</th>\n",
       "      <th>revenue</th>\n",
       "      <th>runtime</th>\n",
       "      <th>title</th>\n",
       "      <th>vote_average</th>\n",
       "      <th>vote_count</th>\n",
       "      <th>keywords</th>\n",
       "      <th>top_cast</th>\n",
       "      <th>director</th>\n",
       "      <th>genre_names</th>\n",
       "    </tr>\n",
       "  </thead>\n",
       "  <tbody>\n",
       "    <tr>\n",
       "      <th>0</th>\n",
       "      <td>30000000</td>\n",
       "      <td>[{'id': 16, 'name': 'Animation'}, {'id': 35, '...</td>\n",
       "      <td>862</td>\n",
       "      <td>en</td>\n",
       "      <td>21.946943</td>\n",
       "      <td>1995-10-30</td>\n",
       "      <td>373554033.0</td>\n",
       "      <td>81.0</td>\n",
       "      <td>Toy Story</td>\n",
       "      <td>7.7</td>\n",
       "      <td>5415.0</td>\n",
       "      <td>[{'id': 931, 'name': 'jealousy'}, {'id': 4290,...</td>\n",
       "      <td>['Tom Hanks', 'Tim Allen', 'Don Rickles', 'Jim...</td>\n",
       "      <td>John Lasseter</td>\n",
       "      <td>[Animation, Comedy, Family]</td>\n",
       "    </tr>\n",
       "  </tbody>\n",
       "</table>\n",
       "</div>"
      ],
      "text/plain": [
       "     budget                                             genres   id  \\\n",
       "0  30000000  [{'id': 16, 'name': 'Animation'}, {'id': 35, '...  862   \n",
       "\n",
       "  original_language  popularity release_date      revenue  runtime      title  \\\n",
       "0                en   21.946943   1995-10-30  373554033.0     81.0  Toy Story   \n",
       "\n",
       "   vote_average  vote_count  \\\n",
       "0           7.7      5415.0   \n",
       "\n",
       "                                            keywords  \\\n",
       "0  [{'id': 931, 'name': 'jealousy'}, {'id': 4290,...   \n",
       "\n",
       "                                            top_cast       director  \\\n",
       "0  ['Tom Hanks', 'Tim Allen', 'Don Rickles', 'Jim...  John Lasseter   \n",
       "\n",
       "                   genre_names  \n",
       "0  [Animation, Comedy, Family]  "
      ]
     },
     "execution_count": 30,
     "metadata": {},
     "output_type": "execute_result"
    }
   ],
   "source": [
    "# Checking if it added the extra column 'genre_names'\n",
    "movies.head(1)"
   ]
  },
  {
   "cell_type": "code",
   "execution_count": 31,
   "id": "3cabf998",
   "metadata": {},
   "outputs": [],
   "source": [
    "# Dropping the original genres column and renaming the new one to genres\n",
    "movies = movies.drop(columns=['genres'])\n",
    "movies = movies.rename(columns={'genre_names': 'genres'})"
   ]
  },
  {
   "cell_type": "code",
   "execution_count": 32,
   "id": "18852931",
   "metadata": {},
   "outputs": [
    {
     "data": {
      "text/html": [
       "<div>\n",
       "<style scoped>\n",
       "    .dataframe tbody tr th:only-of-type {\n",
       "        vertical-align: middle;\n",
       "    }\n",
       "\n",
       "    .dataframe tbody tr th {\n",
       "        vertical-align: top;\n",
       "    }\n",
       "\n",
       "    .dataframe thead th {\n",
       "        text-align: right;\n",
       "    }\n",
       "</style>\n",
       "<table border=\"1\" class=\"dataframe\">\n",
       "  <thead>\n",
       "    <tr style=\"text-align: right;\">\n",
       "      <th></th>\n",
       "      <th>budget</th>\n",
       "      <th>id</th>\n",
       "      <th>original_language</th>\n",
       "      <th>popularity</th>\n",
       "      <th>release_date</th>\n",
       "      <th>revenue</th>\n",
       "      <th>runtime</th>\n",
       "      <th>title</th>\n",
       "      <th>vote_average</th>\n",
       "      <th>vote_count</th>\n",
       "      <th>keywords</th>\n",
       "      <th>top_cast</th>\n",
       "      <th>director</th>\n",
       "      <th>genres</th>\n",
       "    </tr>\n",
       "  </thead>\n",
       "  <tbody>\n",
       "    <tr>\n",
       "      <th>0</th>\n",
       "      <td>30000000</td>\n",
       "      <td>862</td>\n",
       "      <td>en</td>\n",
       "      <td>21.946943</td>\n",
       "      <td>1995-10-30</td>\n",
       "      <td>373554033.0</td>\n",
       "      <td>81.0</td>\n",
       "      <td>Toy Story</td>\n",
       "      <td>7.7</td>\n",
       "      <td>5415.0</td>\n",
       "      <td>[{'id': 931, 'name': 'jealousy'}, {'id': 4290,...</td>\n",
       "      <td>['Tom Hanks', 'Tim Allen', 'Don Rickles', 'Jim...</td>\n",
       "      <td>John Lasseter</td>\n",
       "      <td>[Animation, Comedy, Family]</td>\n",
       "    </tr>\n",
       "  </tbody>\n",
       "</table>\n",
       "</div>"
      ],
      "text/plain": [
       "     budget   id original_language  popularity release_date      revenue  \\\n",
       "0  30000000  862                en   21.946943   1995-10-30  373554033.0   \n",
       "\n",
       "   runtime      title  vote_average  vote_count  \\\n",
       "0     81.0  Toy Story           7.7      5415.0   \n",
       "\n",
       "                                            keywords  \\\n",
       "0  [{'id': 931, 'name': 'jealousy'}, {'id': 4290,...   \n",
       "\n",
       "                                            top_cast       director  \\\n",
       "0  ['Tom Hanks', 'Tim Allen', 'Don Rickles', 'Jim...  John Lasseter   \n",
       "\n",
       "                        genres  \n",
       "0  [Animation, Comedy, Family]  "
      ]
     },
     "execution_count": 32,
     "metadata": {},
     "output_type": "execute_result"
    }
   ],
   "source": [
    "movies.head(1)"
   ]
  },
  {
   "cell_type": "code",
   "execution_count": 33,
   "id": "6a71b627",
   "metadata": {},
   "outputs": [],
   "source": [
    "# Extracting keyword names from the keywords column\n",
    "def extract_keywords(keyword_data):\n",
    "    if isinstance(keyword_data, str):\n",
    "        try:\n",
    "            keywords = ast.literal_eval(keyword_data)\n",
    "            return [keyword['name'] for keyword in keywords]\n",
    "        except (ValueError, SyntaxError):\n",
    "            return []\n",
    "    elif isinstance(keyword_data, list):\n",
    "        return [keyword['name'] for keyword in keyword_data]\n",
    "    return []\n",
    "\n",
    "movies['keyword_names'] = movies['keywords'].apply(extract_keywords)"
   ]
  },
  {
   "cell_type": "code",
   "execution_count": 34,
   "id": "fd7bcfd2",
   "metadata": {},
   "outputs": [
    {
     "data": {
      "text/html": [
       "<div>\n",
       "<style scoped>\n",
       "    .dataframe tbody tr th:only-of-type {\n",
       "        vertical-align: middle;\n",
       "    }\n",
       "\n",
       "    .dataframe tbody tr th {\n",
       "        vertical-align: top;\n",
       "    }\n",
       "\n",
       "    .dataframe thead th {\n",
       "        text-align: right;\n",
       "    }\n",
       "</style>\n",
       "<table border=\"1\" class=\"dataframe\">\n",
       "  <thead>\n",
       "    <tr style=\"text-align: right;\">\n",
       "      <th></th>\n",
       "      <th>budget</th>\n",
       "      <th>id</th>\n",
       "      <th>original_language</th>\n",
       "      <th>popularity</th>\n",
       "      <th>release_date</th>\n",
       "      <th>revenue</th>\n",
       "      <th>runtime</th>\n",
       "      <th>title</th>\n",
       "      <th>vote_average</th>\n",
       "      <th>vote_count</th>\n",
       "      <th>keywords</th>\n",
       "      <th>top_cast</th>\n",
       "      <th>director</th>\n",
       "      <th>genres</th>\n",
       "      <th>keyword_names</th>\n",
       "    </tr>\n",
       "  </thead>\n",
       "  <tbody>\n",
       "    <tr>\n",
       "      <th>0</th>\n",
       "      <td>30000000</td>\n",
       "      <td>862</td>\n",
       "      <td>en</td>\n",
       "      <td>21.946943</td>\n",
       "      <td>1995-10-30</td>\n",
       "      <td>373554033.0</td>\n",
       "      <td>81.0</td>\n",
       "      <td>Toy Story</td>\n",
       "      <td>7.7</td>\n",
       "      <td>5415.0</td>\n",
       "      <td>[{'id': 931, 'name': 'jealousy'}, {'id': 4290,...</td>\n",
       "      <td>['Tom Hanks', 'Tim Allen', 'Don Rickles', 'Jim...</td>\n",
       "      <td>John Lasseter</td>\n",
       "      <td>[Animation, Comedy, Family]</td>\n",
       "      <td>[jealousy, toy, boy, friendship, friends, riva...</td>\n",
       "    </tr>\n",
       "  </tbody>\n",
       "</table>\n",
       "</div>"
      ],
      "text/plain": [
       "     budget   id original_language  popularity release_date      revenue  \\\n",
       "0  30000000  862                en   21.946943   1995-10-30  373554033.0   \n",
       "\n",
       "   runtime      title  vote_average  vote_count  \\\n",
       "0     81.0  Toy Story           7.7      5415.0   \n",
       "\n",
       "                                            keywords  \\\n",
       "0  [{'id': 931, 'name': 'jealousy'}, {'id': 4290,...   \n",
       "\n",
       "                                            top_cast       director  \\\n",
       "0  ['Tom Hanks', 'Tim Allen', 'Don Rickles', 'Jim...  John Lasseter   \n",
       "\n",
       "                        genres  \\\n",
       "0  [Animation, Comedy, Family]   \n",
       "\n",
       "                                       keyword_names  \n",
       "0  [jealousy, toy, boy, friendship, friends, riva...  "
      ]
     },
     "execution_count": 34,
     "metadata": {},
     "output_type": "execute_result"
    }
   ],
   "source": [
    "# Checking if it added the extra column 'keyword_names'\n",
    "movies.head(1)"
   ]
  },
  {
   "cell_type": "code",
   "execution_count": 35,
   "id": "14ea7c8e",
   "metadata": {},
   "outputs": [],
   "source": [
    "# Dropping the original keywords column and renaming the new one to keywords\n",
    "movies = movies.drop(columns=['keywords'])\n",
    "movies = movies.rename(columns={'keyword_names': 'keywords'})"
   ]
  },
  {
   "cell_type": "code",
   "execution_count": 46,
   "id": "8b42c22a",
   "metadata": {},
   "outputs": [
    {
     "data": {
      "text/html": [
       "<div>\n",
       "<style scoped>\n",
       "    .dataframe tbody tr th:only-of-type {\n",
       "        vertical-align: middle;\n",
       "    }\n",
       "\n",
       "    .dataframe tbody tr th {\n",
       "        vertical-align: top;\n",
       "    }\n",
       "\n",
       "    .dataframe thead th {\n",
       "        text-align: right;\n",
       "    }\n",
       "</style>\n",
       "<table border=\"1\" class=\"dataframe\">\n",
       "  <thead>\n",
       "    <tr style=\"text-align: right;\">\n",
       "      <th></th>\n",
       "      <th>budget</th>\n",
       "      <th>id</th>\n",
       "      <th>original_language</th>\n",
       "      <th>popularity</th>\n",
       "      <th>release_date</th>\n",
       "      <th>revenue</th>\n",
       "      <th>runtime</th>\n",
       "      <th>title</th>\n",
       "      <th>vote_average</th>\n",
       "      <th>vote_count</th>\n",
       "      <th>top_cast</th>\n",
       "      <th>director</th>\n",
       "      <th>genres</th>\n",
       "      <th>keywords</th>\n",
       "    </tr>\n",
       "  </thead>\n",
       "  <tbody>\n",
       "    <tr>\n",
       "      <th>0</th>\n",
       "      <td>30000000</td>\n",
       "      <td>862</td>\n",
       "      <td>en</td>\n",
       "      <td>21.946943</td>\n",
       "      <td>1995-10-30</td>\n",
       "      <td>373554033.0</td>\n",
       "      <td>81.0</td>\n",
       "      <td>Toy Story</td>\n",
       "      <td>7.7</td>\n",
       "      <td>5415.0</td>\n",
       "      <td>[Tom Hanks, Tim Allen, Don Rickles, Jim Varney...</td>\n",
       "      <td>John Lasseter</td>\n",
       "      <td>[Animation, Comedy, Family]</td>\n",
       "      <td>[jealousy, toy, boy, friendship, friends, riva...</td>\n",
       "    </tr>\n",
       "  </tbody>\n",
       "</table>\n",
       "</div>"
      ],
      "text/plain": [
       "     budget   id original_language  popularity release_date      revenue  \\\n",
       "0  30000000  862                en   21.946943   1995-10-30  373554033.0   \n",
       "\n",
       "   runtime      title  vote_average  vote_count  \\\n",
       "0     81.0  Toy Story           7.7      5415.0   \n",
       "\n",
       "                                            top_cast       director  \\\n",
       "0  [Tom Hanks, Tim Allen, Don Rickles, Jim Varney...  John Lasseter   \n",
       "\n",
       "                        genres  \\\n",
       "0  [Animation, Comedy, Family]   \n",
       "\n",
       "                                            keywords  \n",
       "0  [jealousy, toy, boy, friendship, friends, riva...  "
      ]
     },
     "execution_count": 46,
     "metadata": {},
     "output_type": "execute_result"
    }
   ],
   "source": [
    "movies.head(1)"
   ]
  },
  {
   "cell_type": "code",
   "execution_count": 37,
   "id": "b849170e",
   "metadata": {},
   "outputs": [
    {
     "data": {
      "text/plain": [
       "budget                0\n",
       "id                    0\n",
       "original_language     0\n",
       "popularity            0\n",
       "release_date          0\n",
       "revenue               0\n",
       "runtime               0\n",
       "title                 0\n",
       "vote_average          0\n",
       "vote_count            0\n",
       "top_cast              0\n",
       "director             74\n",
       "genres                0\n",
       "keywords              0\n",
       "dtype: int64"
      ]
     },
     "execution_count": 37,
     "metadata": {},
     "output_type": "execute_result"
    }
   ],
   "source": [
    "# Checking for missing values in all columns after merges and column changes\n",
    "movies.isnull().sum()"
   ]
  },
  {
   "cell_type": "code",
   "execution_count": 38,
   "id": "661fb8a3",
   "metadata": {},
   "outputs": [],
   "source": [
    "# Removing them from the dataframe\n",
    "movies.dropna(inplace=True)"
   ]
  },
  {
   "cell_type": "code",
   "execution_count": 39,
   "id": "30e3fa7a",
   "metadata": {},
   "outputs": [
    {
     "data": {
      "text/plain": [
       "(22840, 14)"
      ]
     },
     "execution_count": 39,
     "metadata": {},
     "output_type": "execute_result"
    }
   ],
   "source": [
    "movies.shape"
   ]
  },
  {
   "cell_type": "code",
   "execution_count": null,
   "id": "32ef7cd4",
   "metadata": {},
   "outputs": [
    {
     "name": "stdout",
     "output_type": "stream",
     "text": [
      "genres:\n",
      "<class 'list'>\n",
      "['Animation', 'Comedy', 'Family']\n",
      "<class 'str'>\n",
      "\n",
      "top_cast:\n",
      "<class 'str'>\n",
      "['Tom Hanks', 'Tim Allen', 'Don Rickles', 'Jim Varney', 'Wallace Shawn']\n",
      "<class 'str'>\n",
      "\n",
      "keywords:\n",
      "<class 'list'>\n",
      "['jealousy', 'toy', 'boy', 'friendship', 'friends', 'rivalry', 'boy next door', 'new toy', 'toy comes to life']\n",
      "<class 'str'>\n"
     ]
    }
   ],
   "source": [
    "# Checking if genres, top_cast, and keywords are all the same type\n",
    "print(\"genres:\")\n",
    "print(type(movies.loc[0, 'genres']))\n",
    "print(movies.loc[0, 'genres'])\n",
    "print(type(movies.loc[0, 'genres'][0]))\n",
    "\n",
    "print(\"\\ntop_cast:\")\n",
    "print(type(movies.loc[0, 'top_cast']))\n",
    "print(movies.loc[0, 'top_cast'])\n",
    "print(type(movies.loc[0, 'top_cast'][0]))\n",
    "\n",
    "print(\"\\nkeywords:\")\n",
    "print(type(movies.loc[0, 'keywords']))\n",
    "print(movies.loc[0, 'keywords'])\n",
    "print(type(movies.loc[0, 'keywords'][0]))"
   ]
  },
  {
   "cell_type": "code",
   "execution_count": 45,
   "id": "fdf3d8b1",
   "metadata": {},
   "outputs": [
    {
     "name": "stdout",
     "output_type": "stream",
     "text": [
      "\n",
      "top_cast:\n",
      "<class 'list'>\n",
      "['Tom Hanks', 'Tim Allen', 'Don Rickles', 'Jim Varney', 'Wallace Shawn']\n",
      "<class 'str'>\n"
     ]
    }
   ],
   "source": [
    "# Since the top_cast is a str class I'll convert it to a list so it can be processed the same \n",
    "if isinstance(movies.loc[0, 'top_cast'], str):\n",
    "    movies['top_cast'] = movies['top_cast'].apply(ast.literal_eval)\n",
    "\n",
    "print(\"\\ntop_cast:\")\n",
    "print(type(movies.loc[0, 'top_cast']))\n",
    "print(movies.loc[0, 'top_cast'])\n",
    "print(type(movies.loc[0, 'top_cast'][0]))"
   ]
  },
  {
   "cell_type": "code",
   "execution_count": 48,
   "id": "377dde5b",
   "metadata": {},
   "outputs": [],
   "source": [
    "# Momentarily converting the lists to tuples to check for duplicates\n",
    "for col in ['genres', 'keywords', 'top_cast']:\n",
    "    movies[col] = movies[col].apply(lambda x: tuple(x) if isinstance(x, list) else x)\n"
   ]
  },
  {
   "cell_type": "code",
   "execution_count": 50,
   "id": "890f920e",
   "metadata": {},
   "outputs": [
    {
     "name": "stdout",
     "output_type": "stream",
     "text": [
      "Number of duplicate rows: 7\n",
      "Number of duplicate rows: 0\n"
     ]
    }
   ],
   "source": [
    "# As well as duplicates and dropping them if any exists\n",
    "duplicates = movies.duplicated().sum()\n",
    "print(f\"Number of duplicate rows: {duplicates}\")\n",
    "\n",
    "movies = movies.drop_duplicates().reset_index(drop=True)\n",
    "duplicates = movies.duplicated().sum()\n",
    "print(f\"Number of duplicate rows: {duplicates}\")"
   ]
  },
  {
   "cell_type": "code",
   "execution_count": 51,
   "id": "a065b3d7",
   "metadata": {},
   "outputs": [],
   "source": [
    "# Converting them back to lists\n",
    "for col in ['genres', 'keywords', 'top_cast']:\n",
    "    movies[col] = movies[col].apply(lambda x: list(x) if isinstance(x, tuple) else x)"
   ]
  },
  {
   "cell_type": "code",
   "execution_count": 53,
   "id": "debd98c6",
   "metadata": {},
   "outputs": [
    {
     "data": {
      "text/plain": [
       "(22833, 14)"
      ]
     },
     "execution_count": 53,
     "metadata": {},
     "output_type": "execute_result"
    }
   ],
   "source": [
    "movies.shape"
   ]
  },
  {
   "cell_type": "code",
   "execution_count": 55,
   "id": "f127142e",
   "metadata": {},
   "outputs": [
    {
     "data": {
      "text/html": [
       "<div>\n",
       "<style scoped>\n",
       "    .dataframe tbody tr th:only-of-type {\n",
       "        vertical-align: middle;\n",
       "    }\n",
       "\n",
       "    .dataframe tbody tr th {\n",
       "        vertical-align: top;\n",
       "    }\n",
       "\n",
       "    .dataframe thead th {\n",
       "        text-align: right;\n",
       "    }\n",
       "</style>\n",
       "<table border=\"1\" class=\"dataframe\">\n",
       "  <thead>\n",
       "    <tr style=\"text-align: right;\">\n",
       "      <th></th>\n",
       "      <th>budget</th>\n",
       "      <th>id</th>\n",
       "      <th>popularity</th>\n",
       "      <th>revenue</th>\n",
       "      <th>runtime</th>\n",
       "      <th>vote_average</th>\n",
       "      <th>vote_count</th>\n",
       "    </tr>\n",
       "  </thead>\n",
       "  <tbody>\n",
       "    <tr>\n",
       "      <th>count</th>\n",
       "      <td>2.283300e+04</td>\n",
       "      <td>22833.000000</td>\n",
       "      <td>22833.000000</td>\n",
       "      <td>2.283300e+04</td>\n",
       "      <td>22833.00000</td>\n",
       "      <td>22833.000000</td>\n",
       "      <td>22833.000000</td>\n",
       "    </tr>\n",
       "    <tr>\n",
       "      <th>mean</th>\n",
       "      <td>8.271315e+06</td>\n",
       "      <td>84597.413743</td>\n",
       "      <td>5.248466</td>\n",
       "      <td>2.223036e+07</td>\n",
       "      <td>100.54395</td>\n",
       "      <td>6.172027</td>\n",
       "      <td>215.093593</td>\n",
       "    </tr>\n",
       "    <tr>\n",
       "      <th>std</th>\n",
       "      <td>2.387853e+07</td>\n",
       "      <td>110922.340638</td>\n",
       "      <td>7.760870</td>\n",
       "      <td>8.940289e+07</td>\n",
       "      <td>32.89482</td>\n",
       "      <td>0.998118</td>\n",
       "      <td>677.017508</td>\n",
       "    </tr>\n",
       "    <tr>\n",
       "      <th>min</th>\n",
       "      <td>0.000000e+00</td>\n",
       "      <td>2.000000</td>\n",
       "      <td>0.000001</td>\n",
       "      <td>0.000000e+00</td>\n",
       "      <td>0.00000</td>\n",
       "      <td>0.000000</td>\n",
       "      <td>10.000000</td>\n",
       "    </tr>\n",
       "    <tr>\n",
       "      <th>25%</th>\n",
       "      <td>0.000000e+00</td>\n",
       "      <td>13920.000000</td>\n",
       "      <td>1.685725</td>\n",
       "      <td>0.000000e+00</td>\n",
       "      <td>90.00000</td>\n",
       "      <td>5.600000</td>\n",
       "      <td>17.000000</td>\n",
       "    </tr>\n",
       "    <tr>\n",
       "      <th>50%</th>\n",
       "      <td>0.000000e+00</td>\n",
       "      <td>34082.000000</td>\n",
       "      <td>3.534068</td>\n",
       "      <td>0.000000e+00</td>\n",
       "      <td>98.00000</td>\n",
       "      <td>6.300000</td>\n",
       "      <td>34.000000</td>\n",
       "    </tr>\n",
       "    <tr>\n",
       "      <th>75%</th>\n",
       "      <td>3.200000e+06</td>\n",
       "      <td>90148.000000</td>\n",
       "      <td>7.295333</td>\n",
       "      <td>1.258000e+06</td>\n",
       "      <td>111.00000</td>\n",
       "      <td>6.900000</td>\n",
       "      <td>109.000000</td>\n",
       "    </tr>\n",
       "    <tr>\n",
       "      <th>max</th>\n",
       "      <td>3.800000e+08</td>\n",
       "      <td>464111.000000</td>\n",
       "      <td>547.488298</td>\n",
       "      <td>2.787965e+09</td>\n",
       "      <td>900.00000</td>\n",
       "      <td>9.500000</td>\n",
       "      <td>14075.000000</td>\n",
       "    </tr>\n",
       "  </tbody>\n",
       "</table>\n",
       "</div>"
      ],
      "text/plain": [
       "             budget             id    popularity       revenue      runtime  \\\n",
       "count  2.283300e+04   22833.000000  22833.000000  2.283300e+04  22833.00000   \n",
       "mean   8.271315e+06   84597.413743      5.248466  2.223036e+07    100.54395   \n",
       "std    2.387853e+07  110922.340638      7.760870  8.940289e+07     32.89482   \n",
       "min    0.000000e+00       2.000000      0.000001  0.000000e+00      0.00000   \n",
       "25%    0.000000e+00   13920.000000      1.685725  0.000000e+00     90.00000   \n",
       "50%    0.000000e+00   34082.000000      3.534068  0.000000e+00     98.00000   \n",
       "75%    3.200000e+06   90148.000000      7.295333  1.258000e+06    111.00000   \n",
       "max    3.800000e+08  464111.000000    547.488298  2.787965e+09    900.00000   \n",
       "\n",
       "       vote_average    vote_count  \n",
       "count  22833.000000  22833.000000  \n",
       "mean       6.172027    215.093593  \n",
       "std        0.998118    677.017508  \n",
       "min        0.000000     10.000000  \n",
       "25%        5.600000     17.000000  \n",
       "50%        6.300000     34.000000  \n",
       "75%        6.900000    109.000000  \n",
       "max        9.500000  14075.000000  "
      ]
     },
     "execution_count": 55,
     "metadata": {},
     "output_type": "execute_result"
    }
   ],
   "source": [
    "movies.describe()"
   ]
  },
  {
   "cell_type": "code",
   "execution_count": 56,
   "id": "94086c0c",
   "metadata": {},
   "outputs": [
    {
     "data": {
      "image/png": "[encoded data removed]",
      "text/plain": [
       "<Figure size 1600x1000 with 6 Axes>"
      ]
     },
     "metadata": {},
     "output_type": "display_data"
    }
   ],
   "source": [
    "# Let's check for outliers in the numeric columns\n",
    "numeric_cols = ['budget', 'revenue', 'runtime', 'popularity', 'vote_average', 'vote_count']\n",
    "\n",
    "# Boxplot for outlier detection\n",
    "plt.figure(figsize=(16, 10))\n",
    "for i, col in enumerate(numeric_cols, 1):\n",
    "    plt.subplot(2, 3, i)\n",
    "    sns.boxplot(x=movies[col])\n",
    "    plt.title(f'Boxplot of {col}')\n",
    "plt.tight_layout()\n",
    "plt.show()"
   ]
  }
 ],
 "metadata": {
  "kernelspec": {
   "display_name": "Python 3",
   "language": "python",
   "name": "python3"
  },
  "language_info": {
   "codemirror_mode": {
    "name": "ipython",
    "version": 3
   },
   "file_extension": ".py",
   "mimetype": "text/x-python",
   "name": "python",
   "nbconvert_exporter": "python",
   "pygments_lexer": "ipython3",
   "version": "3.13.3"
  }
 },
 "nbformat": 4,
 "nbformat_minor": 5
}
