{
 "cells": [
  {
   "cell_type": "markdown",
   "id": "d0e7f365",
   "metadata": {},
   "source": [
    "# Initial Preprocessing of the data"
   ]
  },
  {
   "cell_type": "code",
   "execution_count": 337,
   "id": "1143bcc1",
   "metadata": {},
   "outputs": [],
   "source": [
    "# Imports\n",
    "import pandas as pd\n",
    "import numpy as np\n",
    "import matplotlib.pyplot as plt\n",
    "import seaborn as sns\n",
    "import json\n",
    "import ast\n",
    "from datetime import datetime\n",
    "import re\n",
    "from sklearn.preprocessing import MultiLabelBinarizer"
   ]
  },
  {
   "cell_type": "code",
   "execution_count": 338,
   "id": "2c6d0075",
   "metadata": {},
   "outputs": [],
   "source": [
    "# Creating dataframes for the respective datasets\n",
    "credits = pd.read_csv('../data/credits.csv')\n",
    "keywords = pd.read_csv('../data/keywords.csv')\n",
    "movies = pd.read_csv('../data/movies_metadata.csv', low_memory=False)\n",
    "ratings = pd.read_csv('../data/ratings.csv')"
   ]
  },
  {
   "cell_type": "code",
   "execution_count": 339,
   "id": "2c204040",
   "metadata": {},
   "outputs": [
    {
     "name": "stdout",
     "output_type": "stream",
     "text": [
      "Shape of credits: \n",
      "(45476, 3)\n",
      "Shape of keywords:\n",
      "(46419, 2)\n",
      "Shape of movies:\n",
      "(45466, 24)\n",
      "Shape of ratings:\n",
      "(26024289, 4)\n"
     ]
    }
   ],
   "source": [
    "print(\"Shape of credits: \")\n",
    "print(credits.shape)\n",
    "print(\"Shape of keywords:\")\n",
    "print(keywords.shape)\n",
    "print(\"Shape of movies:\")\n",
    "print(movies.shape)\n",
    "print(\"Shape of ratings:\")\n",
    "print(ratings.shape)"
   ]
  },
  {
   "cell_type": "code",
   "execution_count": 340,
   "id": "49a4f0c0",
   "metadata": {},
   "outputs": [
    {
     "name": "stdout",
     "output_type": "stream",
     "text": [
      "<class 'pandas.core.frame.DataFrame'>\n",
      "RangeIndex: 45466 entries, 0 to 45465\n",
      "Data columns (total 24 columns):\n",
      " #   Column                 Non-Null Count  Dtype  \n",
      "---  ------                 --------------  -----  \n",
      " 0   adult                  45466 non-null  object \n",
      " 1   belongs_to_collection  4494 non-null   object \n",
      " 2   budget                 45466 non-null  object \n",
      " 3   genres                 45466 non-null  object \n",
      " 4   homepage               7782 non-null   object \n",
      " 5   id                     45466 non-null  object \n",
      " 6   imdb_id                45449 non-null  object \n",
      " 7   original_language      45455 non-null  object \n",
      " 8   original_title         45466 non-null  object \n",
      " 9   overview               44512 non-null  object \n",
      " 10  popularity             45461 non-null  object \n",
      " 11  poster_path            45080 non-null  object \n",
      " 12  production_companies   45463 non-null  object \n",
      " 13  production_countries   45463 non-null  object \n",
      " 14  release_date           45379 non-null  object \n",
      " 15  revenue                45460 non-null  float64\n",
      " 16  runtime                45203 non-null  float64\n",
      " 17  spoken_languages       45460 non-null  object \n",
      " 18  status                 45379 non-null  object \n",
      " 19  tagline                20412 non-null  object \n",
      " 20  title                  45460 non-null  object \n",
      " 21  video                  45460 non-null  object \n",
      " 22  vote_average           45460 non-null  float64\n",
      " 23  vote_count             45460 non-null  float64\n",
      "dtypes: float64(4), object(20)\n",
      "memory usage: 8.3+ MB\n"
     ]
    }
   ],
   "source": [
    "movies.info()"
   ]
  },
  {
   "cell_type": "code",
   "execution_count": 341,
   "id": "d7eaf4e0",
   "metadata": {},
   "outputs": [
    {
     "name": "stdout",
     "output_type": "stream",
     "text": [
      "<class 'pandas.core.frame.DataFrame'>\n",
      "RangeIndex: 45476 entries, 0 to 45475\n",
      "Data columns (total 3 columns):\n",
      " #   Column  Non-Null Count  Dtype \n",
      "---  ------  --------------  ----- \n",
      " 0   cast    45476 non-null  object\n",
      " 1   crew    45476 non-null  object\n",
      " 2   id      45476 non-null  int64 \n",
      "dtypes: int64(1), object(2)\n",
      "memory usage: 1.0+ MB\n"
     ]
    }
   ],
   "source": [
    "credits.info()"
   ]
  },
  {
   "cell_type": "code",
   "execution_count": 342,
   "id": "04c72455",
   "metadata": {},
   "outputs": [
    {
     "name": "stdout",
     "output_type": "stream",
     "text": [
      "<class 'pandas.core.frame.DataFrame'>\n",
      "RangeIndex: 46419 entries, 0 to 46418\n",
      "Data columns (total 2 columns):\n",
      " #   Column    Non-Null Count  Dtype \n",
      "---  ------    --------------  ----- \n",
      " 0   id        46419 non-null  int64 \n",
      " 1   keywords  46419 non-null  object\n",
      "dtypes: int64(1), object(1)\n",
      "memory usage: 725.4+ KB\n"
     ]
    }
   ],
   "source": [
    "keywords.info()"
   ]
  },
  {
   "cell_type": "markdown",
   "id": "56474934",
   "metadata": {},
   "source": [
    "### Dataframe cleaning and wrangling"
   ]
  },
  {
   "cell_type": "code",
   "execution_count": 343,
   "id": "a5378221",
   "metadata": {},
   "outputs": [],
   "source": [
    "# First dropping columns that seem redundant/irrelevant for further analysis - keeping id as a reference between dataframes\n",
    "columns_to_drop = ['adult', 'belongs_to_collection', 'imdb_id', 'original_title', 'homepage', 'poster_path',\n",
    "    'status', 'video', 'tagline', 'overview', 'production_companies', 'production_countries', 'spoken_languages', 'popularity']\n",
    "\n",
    "movies = movies.drop(columns=columns_to_drop)"
   ]
  },
  {
   "cell_type": "code",
   "execution_count": 344,
   "id": "b85b8d32",
   "metadata": {},
   "outputs": [
    {
     "data": {
      "text/plain": [
       "(45466, 10)"
      ]
     },
     "execution_count": 344,
     "metadata": {},
     "output_type": "execute_result"
    }
   ],
   "source": [
    "movies.shape"
   ]
  },
  {
   "cell_type": "code",
   "execution_count": 345,
   "id": "46105be8",
   "metadata": {},
   "outputs": [
    {
     "data": {
      "text/plain": [
       "budget                 0\n",
       "genres                 0\n",
       "id                     0\n",
       "original_language     11\n",
       "release_date          87\n",
       "revenue                6\n",
       "runtime              263\n",
       "title                  6\n",
       "vote_average           6\n",
       "vote_count             6\n",
       "dtype: int64"
      ]
     },
     "execution_count": 345,
     "metadata": {},
     "output_type": "execute_result"
    }
   ],
   "source": [
    "# Finding null-values\n",
    "movies.isnull().sum()"
   ]
  },
  {
   "cell_type": "code",
   "execution_count": 346,
   "id": "6c1beb76",
   "metadata": {},
   "outputs": [],
   "source": [
    "# Removing null from the dataframe\n",
    "movies.dropna(inplace=True)"
   ]
  },
  {
   "cell_type": "code",
   "execution_count": 347,
   "id": "d45656a7",
   "metadata": {},
   "outputs": [
    {
     "data": {
      "text/plain": [
       "(45119, 10)"
      ]
     },
     "execution_count": 347,
     "metadata": {},
     "output_type": "execute_result"
    }
   ],
   "source": [
    "movies.shape"
   ]
  },
  {
   "cell_type": "code",
   "execution_count": 348,
   "id": "5da8c108",
   "metadata": {},
   "outputs": [
    {
     "data": {
      "text/html": [
       "<div>\n",
       "<style scoped>\n",
       "    .dataframe tbody tr th:only-of-type {\n",
       "        vertical-align: middle;\n",
       "    }\n",
       "\n",
       "    .dataframe tbody tr th {\n",
       "        vertical-align: top;\n",
       "    }\n",
       "\n",
       "    .dataframe thead th {\n",
       "        text-align: right;\n",
       "    }\n",
       "</style>\n",
       "<table border=\"1\" class=\"dataframe\">\n",
       "  <thead>\n",
       "    <tr style=\"text-align: right;\">\n",
       "      <th></th>\n",
       "      <th>budget</th>\n",
       "      <th>genres</th>\n",
       "      <th>id</th>\n",
       "      <th>original_language</th>\n",
       "      <th>release_date</th>\n",
       "      <th>revenue</th>\n",
       "      <th>runtime</th>\n",
       "      <th>title</th>\n",
       "      <th>vote_average</th>\n",
       "      <th>vote_count</th>\n",
       "    </tr>\n",
       "  </thead>\n",
       "  <tbody>\n",
       "    <tr>\n",
       "      <th>0</th>\n",
       "      <td>30000000</td>\n",
       "      <td>[{'id': 16, 'name': 'Animation'}, {'id': 35, '...</td>\n",
       "      <td>862</td>\n",
       "      <td>en</td>\n",
       "      <td>1995-10-30</td>\n",
       "      <td>373554033.0</td>\n",
       "      <td>81.0</td>\n",
       "      <td>Toy Story</td>\n",
       "      <td>7.7</td>\n",
       "      <td>5415.0</td>\n",
       "    </tr>\n",
       "    <tr>\n",
       "      <th>1</th>\n",
       "      <td>65000000</td>\n",
       "      <td>[{'id': 12, 'name': 'Adventure'}, {'id': 14, '...</td>\n",
       "      <td>8844</td>\n",
       "      <td>en</td>\n",
       "      <td>1995-12-15</td>\n",
       "      <td>262797249.0</td>\n",
       "      <td>104.0</td>\n",
       "      <td>Jumanji</td>\n",
       "      <td>6.9</td>\n",
       "      <td>2413.0</td>\n",
       "    </tr>\n",
       "    <tr>\n",
       "      <th>2</th>\n",
       "      <td>0</td>\n",
       "      <td>[{'id': 10749, 'name': 'Romance'}, {'id': 35, ...</td>\n",
       "      <td>15602</td>\n",
       "      <td>en</td>\n",
       "      <td>1995-12-22</td>\n",
       "      <td>0.0</td>\n",
       "      <td>101.0</td>\n",
       "      <td>Grumpier Old Men</td>\n",
       "      <td>6.5</td>\n",
       "      <td>92.0</td>\n",
       "    </tr>\n",
       "    <tr>\n",
       "      <th>3</th>\n",
       "      <td>16000000</td>\n",
       "      <td>[{'id': 35, 'name': 'Comedy'}, {'id': 18, 'nam...</td>\n",
       "      <td>31357</td>\n",
       "      <td>en</td>\n",
       "      <td>1995-12-22</td>\n",
       "      <td>81452156.0</td>\n",
       "      <td>127.0</td>\n",
       "      <td>Waiting to Exhale</td>\n",
       "      <td>6.1</td>\n",
       "      <td>34.0</td>\n",
       "    </tr>\n",
       "    <tr>\n",
       "      <th>4</th>\n",
       "      <td>0</td>\n",
       "      <td>[{'id': 35, 'name': 'Comedy'}]</td>\n",
       "      <td>11862</td>\n",
       "      <td>en</td>\n",
       "      <td>1995-02-10</td>\n",
       "      <td>76578911.0</td>\n",
       "      <td>106.0</td>\n",
       "      <td>Father of the Bride Part II</td>\n",
       "      <td>5.7</td>\n",
       "      <td>173.0</td>\n",
       "    </tr>\n",
       "    <tr>\n",
       "      <th>...</th>\n",
       "      <td>...</td>\n",
       "      <td>...</td>\n",
       "      <td>...</td>\n",
       "      <td>...</td>\n",
       "      <td>...</td>\n",
       "      <td>...</td>\n",
       "      <td>...</td>\n",
       "      <td>...</td>\n",
       "      <td>...</td>\n",
       "      <td>...</td>\n",
       "    </tr>\n",
       "    <tr>\n",
       "      <th>45460</th>\n",
       "      <td>0</td>\n",
       "      <td>[{'id': 18, 'name': 'Drama'}, {'id': 28, 'name...</td>\n",
       "      <td>30840</td>\n",
       "      <td>en</td>\n",
       "      <td>1991-05-13</td>\n",
       "      <td>0.0</td>\n",
       "      <td>104.0</td>\n",
       "      <td>Robin Hood</td>\n",
       "      <td>5.7</td>\n",
       "      <td>26.0</td>\n",
       "    </tr>\n",
       "    <tr>\n",
       "      <th>45462</th>\n",
       "      <td>0</td>\n",
       "      <td>[{'id': 18, 'name': 'Drama'}]</td>\n",
       "      <td>111109</td>\n",
       "      <td>tl</td>\n",
       "      <td>2011-11-17</td>\n",
       "      <td>0.0</td>\n",
       "      <td>360.0</td>\n",
       "      <td>Century of Birthing</td>\n",
       "      <td>9.0</td>\n",
       "      <td>3.0</td>\n",
       "    </tr>\n",
       "    <tr>\n",
       "      <th>45463</th>\n",
       "      <td>0</td>\n",
       "      <td>[{'id': 28, 'name': 'Action'}, {'id': 18, 'nam...</td>\n",
       "      <td>67758</td>\n",
       "      <td>en</td>\n",
       "      <td>2003-08-01</td>\n",
       "      <td>0.0</td>\n",
       "      <td>90.0</td>\n",
       "      <td>Betrayal</td>\n",
       "      <td>3.8</td>\n",
       "      <td>6.0</td>\n",
       "    </tr>\n",
       "    <tr>\n",
       "      <th>45464</th>\n",
       "      <td>0</td>\n",
       "      <td>[]</td>\n",
       "      <td>227506</td>\n",
       "      <td>en</td>\n",
       "      <td>1917-10-21</td>\n",
       "      <td>0.0</td>\n",
       "      <td>87.0</td>\n",
       "      <td>Satan Triumphant</td>\n",
       "      <td>0.0</td>\n",
       "      <td>0.0</td>\n",
       "    </tr>\n",
       "    <tr>\n",
       "      <th>45465</th>\n",
       "      <td>0</td>\n",
       "      <td>[]</td>\n",
       "      <td>461257</td>\n",
       "      <td>en</td>\n",
       "      <td>2017-06-09</td>\n",
       "      <td>0.0</td>\n",
       "      <td>75.0</td>\n",
       "      <td>Queerama</td>\n",
       "      <td>0.0</td>\n",
       "      <td>0.0</td>\n",
       "    </tr>\n",
       "  </tbody>\n",
       "</table>\n",
       "<p>45091 rows × 10 columns</p>\n",
       "</div>"
      ],
      "text/plain": [
       "         budget                                             genres      id  \\\n",
       "0      30000000  [{'id': 16, 'name': 'Animation'}, {'id': 35, '...     862   \n",
       "1      65000000  [{'id': 12, 'name': 'Adventure'}, {'id': 14, '...    8844   \n",
       "2             0  [{'id': 10749, 'name': 'Romance'}, {'id': 35, ...   15602   \n",
       "3      16000000  [{'id': 35, 'name': 'Comedy'}, {'id': 18, 'nam...   31357   \n",
       "4             0                     [{'id': 35, 'name': 'Comedy'}]   11862   \n",
       "...         ...                                                ...     ...   \n",
       "45460         0  [{'id': 18, 'name': 'Drama'}, {'id': 28, 'name...   30840   \n",
       "45462         0                      [{'id': 18, 'name': 'Drama'}]  111109   \n",
       "45463         0  [{'id': 28, 'name': 'Action'}, {'id': 18, 'nam...   67758   \n",
       "45464         0                                                 []  227506   \n",
       "45465         0                                                 []  461257   \n",
       "\n",
       "      original_language release_date      revenue  runtime  \\\n",
       "0                    en   1995-10-30  373554033.0     81.0   \n",
       "1                    en   1995-12-15  262797249.0    104.0   \n",
       "2                    en   1995-12-22          0.0    101.0   \n",
       "3                    en   1995-12-22   81452156.0    127.0   \n",
       "4                    en   1995-02-10   76578911.0    106.0   \n",
       "...                 ...          ...          ...      ...   \n",
       "45460                en   1991-05-13          0.0    104.0   \n",
       "45462                tl   2011-11-17          0.0    360.0   \n",
       "45463                en   2003-08-01          0.0     90.0   \n",
       "45464                en   1917-10-21          0.0     87.0   \n",
       "45465                en   2017-06-09          0.0     75.0   \n",
       "\n",
       "                             title  vote_average  vote_count  \n",
       "0                        Toy Story           7.7      5415.0  \n",
       "1                          Jumanji           6.9      2413.0  \n",
       "2                 Grumpier Old Men           6.5        92.0  \n",
       "3                Waiting to Exhale           6.1        34.0  \n",
       "4      Father of the Bride Part II           5.7       173.0  \n",
       "...                            ...           ...         ...  \n",
       "45460                   Robin Hood           5.7        26.0  \n",
       "45462          Century of Birthing           9.0         3.0  \n",
       "45463                     Betrayal           3.8         6.0  \n",
       "45464             Satan Triumphant           0.0         0.0  \n",
       "45465                     Queerama           0.0         0.0  \n",
       "\n",
       "[45091 rows x 10 columns]"
      ]
     },
     "execution_count": 348,
     "metadata": {},
     "output_type": "execute_result"
    }
   ],
   "source": [
    "movies.drop_duplicates()"
   ]
  },
  {
   "cell_type": "code",
   "execution_count": 349,
   "id": "f09549d6",
   "metadata": {},
   "outputs": [
    {
     "name": "stdout",
     "output_type": "stream",
     "text": [
      "<class 'pandas.core.frame.DataFrame'>\n",
      "Index: 45119 entries, 0 to 45465\n",
      "Data columns (total 10 columns):\n",
      " #   Column             Non-Null Count  Dtype  \n",
      "---  ------             --------------  -----  \n",
      " 0   budget             45119 non-null  object \n",
      " 1   genres             45119 non-null  object \n",
      " 2   id                 45119 non-null  object \n",
      " 3   original_language  45119 non-null  object \n",
      " 4   release_date       45119 non-null  object \n",
      " 5   revenue            45119 non-null  float64\n",
      " 6   runtime            45119 non-null  float64\n",
      " 7   title              45119 non-null  object \n",
      " 8   vote_average       45119 non-null  float64\n",
      " 9   vote_count         45119 non-null  float64\n",
      "dtypes: float64(4), object(6)\n",
      "memory usage: 3.8+ MB\n"
     ]
    }
   ],
   "source": [
    "movies.info()"
   ]
  },
  {
   "cell_type": "code",
   "execution_count": 350,
   "id": "694047b5",
   "metadata": {},
   "outputs": [],
   "source": [
    "# As id and bduget is not numeric, I'll convert these\n",
    "# Converting the release_date to datetime as well\n",
    "movies['id'] = pd.to_numeric(movies['id'], errors='coerce')\n",
    "movies['budget'] = pd.to_numeric(movies['budget'], errors='coerce')\n",
    "movies['release_date'] = pd.to_datetime(movies['release_date'], errors='coerce')"
   ]
  },
  {
   "cell_type": "code",
   "execution_count": 351,
   "id": "7a66bb5a",
   "metadata": {},
   "outputs": [
    {
     "name": "stdout",
     "output_type": "stream",
     "text": [
      "<class 'pandas.core.frame.DataFrame'>\n",
      "Index: 45119 entries, 0 to 45465\n",
      "Data columns (total 10 columns):\n",
      " #   Column             Non-Null Count  Dtype         \n",
      "---  ------             --------------  -----         \n",
      " 0   budget             45119 non-null  int64         \n",
      " 1   genres             45119 non-null  object        \n",
      " 2   id                 45119 non-null  int64         \n",
      " 3   original_language  45119 non-null  object        \n",
      " 4   release_date       45119 non-null  datetime64[ns]\n",
      " 5   revenue            45119 non-null  float64       \n",
      " 6   runtime            45119 non-null  float64       \n",
      " 7   title              45119 non-null  object        \n",
      " 8   vote_average       45119 non-null  float64       \n",
      " 9   vote_count         45119 non-null  float64       \n",
      "dtypes: datetime64[ns](1), float64(4), int64(2), object(3)\n",
      "memory usage: 3.8+ MB\n"
     ]
    }
   ],
   "source": [
    "movies.info()"
   ]
  },
  {
   "cell_type": "code",
   "execution_count": 352,
   "id": "effbda30",
   "metadata": {},
   "outputs": [
    {
     "data": {
      "text/html": [
       "<div>\n",
       "<style scoped>\n",
       "    .dataframe tbody tr th:only-of-type {\n",
       "        vertical-align: middle;\n",
       "    }\n",
       "\n",
       "    .dataframe tbody tr th {\n",
       "        vertical-align: top;\n",
       "    }\n",
       "\n",
       "    .dataframe thead th {\n",
       "        text-align: right;\n",
       "    }\n",
       "</style>\n",
       "<table border=\"1\" class=\"dataframe\">\n",
       "  <thead>\n",
       "    <tr style=\"text-align: right;\">\n",
       "      <th></th>\n",
       "      <th>budget</th>\n",
       "      <th>genres</th>\n",
       "      <th>id</th>\n",
       "      <th>original_language</th>\n",
       "      <th>release_date</th>\n",
       "      <th>revenue</th>\n",
       "      <th>runtime</th>\n",
       "      <th>title</th>\n",
       "      <th>vote_average</th>\n",
       "      <th>vote_count</th>\n",
       "    </tr>\n",
       "  </thead>\n",
       "  <tbody>\n",
       "    <tr>\n",
       "      <th>0</th>\n",
       "      <td>30000000</td>\n",
       "      <td>[{'id': 16, 'name': 'Animation'}, {'id': 35, '...</td>\n",
       "      <td>862</td>\n",
       "      <td>en</td>\n",
       "      <td>1995-10-30</td>\n",
       "      <td>373554033.0</td>\n",
       "      <td>81.0</td>\n",
       "      <td>Toy Story</td>\n",
       "      <td>7.7</td>\n",
       "      <td>5415.0</td>\n",
       "    </tr>\n",
       "    <tr>\n",
       "      <th>1</th>\n",
       "      <td>65000000</td>\n",
       "      <td>[{'id': 12, 'name': 'Adventure'}, {'id': 14, '...</td>\n",
       "      <td>8844</td>\n",
       "      <td>en</td>\n",
       "      <td>1995-12-15</td>\n",
       "      <td>262797249.0</td>\n",
       "      <td>104.0</td>\n",
       "      <td>Jumanji</td>\n",
       "      <td>6.9</td>\n",
       "      <td>2413.0</td>\n",
       "    </tr>\n",
       "    <tr>\n",
       "      <th>2</th>\n",
       "      <td>0</td>\n",
       "      <td>[{'id': 10749, 'name': 'Romance'}, {'id': 35, ...</td>\n",
       "      <td>15602</td>\n",
       "      <td>en</td>\n",
       "      <td>1995-12-22</td>\n",
       "      <td>0.0</td>\n",
       "      <td>101.0</td>\n",
       "      <td>Grumpier Old Men</td>\n",
       "      <td>6.5</td>\n",
       "      <td>92.0</td>\n",
       "    </tr>\n",
       "  </tbody>\n",
       "</table>\n",
       "</div>"
      ],
      "text/plain": [
       "     budget                                             genres     id  \\\n",
       "0  30000000  [{'id': 16, 'name': 'Animation'}, {'id': 35, '...    862   \n",
       "1  65000000  [{'id': 12, 'name': 'Adventure'}, {'id': 14, '...   8844   \n",
       "2         0  [{'id': 10749, 'name': 'Romance'}, {'id': 35, ...  15602   \n",
       "\n",
       "  original_language release_date      revenue  runtime             title  \\\n",
       "0                en   1995-10-30  373554033.0     81.0         Toy Story   \n",
       "1                en   1995-12-15  262797249.0    104.0           Jumanji   \n",
       "2                en   1995-12-22          0.0    101.0  Grumpier Old Men   \n",
       "\n",
       "   vote_average  vote_count  \n",
       "0           7.7      5415.0  \n",
       "1           6.9      2413.0  \n",
       "2           6.5        92.0  "
      ]
     },
     "execution_count": 352,
     "metadata": {},
     "output_type": "execute_result"
    }
   ],
   "source": [
    "movies.head(3)"
   ]
  },
  {
   "cell_type": "markdown",
   "id": "d689e634",
   "metadata": {},
   "source": [
    "It's important that all movies have received votes, and to make sure they're somewhat qualitative, I'll remove all rows where vote_count is < 10"
   ]
  },
  {
   "cell_type": "code",
   "execution_count": 353,
   "id": "c5ffc603",
   "metadata": {},
   "outputs": [],
   "source": [
    "movies = movies[movies['vote_count'] >= 10].reset_index(drop=True)\n",
    "\n"
   ]
  },
  {
   "cell_type": "code",
   "execution_count": 354,
   "id": "c212d866",
   "metadata": {},
   "outputs": [
    {
     "data": {
      "text/plain": [
       "(22914, 10)"
      ]
     },
     "execution_count": 354,
     "metadata": {},
     "output_type": "execute_result"
    }
   ],
   "source": [
    "movies.shape"
   ]
  },
  {
   "cell_type": "code",
   "execution_count": 355,
   "id": "4f6c73d8",
   "metadata": {},
   "outputs": [],
   "source": [
    "# Convert 'id' columns to numeric (if not already)\n",
    "keywords['id'] = pd.to_numeric(keywords['id'], errors='coerce')\n",
    "credits['id'] = pd.to_numeric(credits['id'], errors='coerce')\n",
    "\n",
    "# Drop rows with NaN ids (if any)\n",
    "keywords = keywords.dropna(subset=['id'])\n",
    "credits = credits.dropna(subset=['id'])\n",
    "\n",
    "# Reset index after dropping\n",
    "keywords = keywords.reset_index(drop=True)\n",
    "credits = credits.reset_index(drop=True)"
   ]
  },
  {
   "cell_type": "code",
   "execution_count": 356,
   "id": "0683f99c",
   "metadata": {},
   "outputs": [],
   "source": [
    "# The keywords and credits dataframes have column with stringified lists of dictionaires.\n",
    "# I'll convert these to Python objects for future analysis\n",
    "# Parse the 'keywords' column\n",
    "keywords['keywords'] = keywords['keywords'].apply(ast.literal_eval)\n",
    "\n",
    "# Parse the 'cast' and 'crew' columns in credits\n",
    "credits['cast'] = credits['cast'].apply(ast.literal_eval)\n",
    "credits['crew'] = credits['crew'].apply(ast.literal_eval)"
   ]
  },
  {
   "cell_type": "code",
   "execution_count": 357,
   "id": "73bc5542",
   "metadata": {},
   "outputs": [
    {
     "data": {
      "text/plain": [
       "(46419, 2)"
      ]
     },
     "execution_count": 357,
     "metadata": {},
     "output_type": "execute_result"
    }
   ],
   "source": [
    "keywords.shape"
   ]
  },
  {
   "cell_type": "code",
   "execution_count": 358,
   "id": "98a166bc",
   "metadata": {},
   "outputs": [
    {
     "name": "stdout",
     "output_type": "stream",
     "text": [
      "Number of duplicate IDs in keywords: 987\n"
     ]
    }
   ],
   "source": [
    "# Checking for duplicate IDs in keywords \n",
    "duplicate_ids = keywords['id'].duplicated().sum()\n",
    "print(f\"Number of duplicate IDs in keywords: {duplicate_ids}\")"
   ]
  },
  {
   "cell_type": "code",
   "execution_count": 359,
   "id": "51080e7c",
   "metadata": {},
   "outputs": [],
   "source": [
    "keywords = keywords.drop_duplicates('id')"
   ]
  },
  {
   "cell_type": "code",
   "execution_count": 360,
   "id": "0aeda185",
   "metadata": {},
   "outputs": [
    {
     "data": {
      "text/plain": [
       "(45432, 2)"
      ]
     },
     "execution_count": 360,
     "metadata": {},
     "output_type": "execute_result"
    }
   ],
   "source": [
    "keywords.shape"
   ]
  },
  {
   "cell_type": "code",
   "execution_count": 361,
   "id": "64dde496",
   "metadata": {},
   "outputs": [],
   "source": [
    "# Keeping only top 5 actors from the cast, and only the directors from the crew\n",
    "def extract_top_cast(cast_data, top=5):\n",
    "    try:\n",
    "        # Sort by 'order' and take top N\n",
    "        sorted_cast = sorted(cast_data, key=lambda x: x.get('order', 999))[:top]\n",
    "        return [actor['name'] for actor in sorted_cast]\n",
    "    except (ValueError, TypeError):\n",
    "        return []\n",
    "\n",
    "credits['top_cast'] = credits['cast'].apply(extract_top_cast)"
   ]
  },
  {
   "cell_type": "code",
   "execution_count": 362,
   "id": "00497a54",
   "metadata": {},
   "outputs": [
    {
     "data": {
      "text/html": [
       "<div>\n",
       "<style scoped>\n",
       "    .dataframe tbody tr th:only-of-type {\n",
       "        vertical-align: middle;\n",
       "    }\n",
       "\n",
       "    .dataframe tbody tr th {\n",
       "        vertical-align: top;\n",
       "    }\n",
       "\n",
       "    .dataframe thead th {\n",
       "        text-align: right;\n",
       "    }\n",
       "</style>\n",
       "<table border=\"1\" class=\"dataframe\">\n",
       "  <thead>\n",
       "    <tr style=\"text-align: right;\">\n",
       "      <th></th>\n",
       "      <th>cast</th>\n",
       "      <th>crew</th>\n",
       "      <th>id</th>\n",
       "      <th>top_cast</th>\n",
       "    </tr>\n",
       "  </thead>\n",
       "  <tbody>\n",
       "    <tr>\n",
       "      <th>0</th>\n",
       "      <td>[{'cast_id': 14, 'character': 'Woody (voice)',...</td>\n",
       "      <td>[{'credit_id': '52fe4284c3a36847f8024f49', 'de...</td>\n",
       "      <td>862</td>\n",
       "      <td>[Tom Hanks, Tim Allen, Don Rickles, Jim Varney...</td>\n",
       "    </tr>\n",
       "    <tr>\n",
       "      <th>1</th>\n",
       "      <td>[{'cast_id': 1, 'character': 'Alan Parrish', '...</td>\n",
       "      <td>[{'credit_id': '52fe44bfc3a36847f80a7cd1', 'de...</td>\n",
       "      <td>8844</td>\n",
       "      <td>[Robin Williams, Jonathan Hyde, Kirsten Dunst,...</td>\n",
       "    </tr>\n",
       "    <tr>\n",
       "      <th>2</th>\n",
       "      <td>[{'cast_id': 2, 'character': 'Max Goldman', 'c...</td>\n",
       "      <td>[{'credit_id': '52fe466a9251416c75077a89', 'de...</td>\n",
       "      <td>15602</td>\n",
       "      <td>[Walter Matthau, Jack Lemmon, Ann-Margret, Sop...</td>\n",
       "    </tr>\n",
       "  </tbody>\n",
       "</table>\n",
       "</div>"
      ],
      "text/plain": [
       "                                                cast  \\\n",
       "0  [{'cast_id': 14, 'character': 'Woody (voice)',...   \n",
       "1  [{'cast_id': 1, 'character': 'Alan Parrish', '...   \n",
       "2  [{'cast_id': 2, 'character': 'Max Goldman', 'c...   \n",
       "\n",
       "                                                crew     id  \\\n",
       "0  [{'credit_id': '52fe4284c3a36847f8024f49', 'de...    862   \n",
       "1  [{'credit_id': '52fe44bfc3a36847f80a7cd1', 'de...   8844   \n",
       "2  [{'credit_id': '52fe466a9251416c75077a89', 'de...  15602   \n",
       "\n",
       "                                            top_cast  \n",
       "0  [Tom Hanks, Tim Allen, Don Rickles, Jim Varney...  \n",
       "1  [Robin Williams, Jonathan Hyde, Kirsten Dunst,...  \n",
       "2  [Walter Matthau, Jack Lemmon, Ann-Margret, Sop...  "
      ]
     },
     "execution_count": 362,
     "metadata": {},
     "output_type": "execute_result"
    }
   ],
   "source": [
    "credits.head(3)"
   ]
  },
  {
   "cell_type": "code",
   "execution_count": 363,
   "id": "5cfe8347",
   "metadata": {},
   "outputs": [],
   "source": [
    "def extract_director(crew_data):\n",
    "    try:\n",
    "        directors = [member['name'] for member in crew_data if member.get('job') == 'Director']\n",
    "        return directors[0] if directors else None\n",
    "    except (ValueError, TypeError):\n",
    "        return None\n",
    "    \n",
    "credits['director'] = credits['crew'].apply(extract_director)"
   ]
  },
  {
   "cell_type": "code",
   "execution_count": 364,
   "id": "6c50af35",
   "metadata": {},
   "outputs": [
    {
     "data": {
      "text/html": [
       "<div>\n",
       "<style scoped>\n",
       "    .dataframe tbody tr th:only-of-type {\n",
       "        vertical-align: middle;\n",
       "    }\n",
       "\n",
       "    .dataframe tbody tr th {\n",
       "        vertical-align: top;\n",
       "    }\n",
       "\n",
       "    .dataframe thead th {\n",
       "        text-align: right;\n",
       "    }\n",
       "</style>\n",
       "<table border=\"1\" class=\"dataframe\">\n",
       "  <thead>\n",
       "    <tr style=\"text-align: right;\">\n",
       "      <th></th>\n",
       "      <th>cast</th>\n",
       "      <th>crew</th>\n",
       "      <th>id</th>\n",
       "      <th>top_cast</th>\n",
       "      <th>director</th>\n",
       "    </tr>\n",
       "  </thead>\n",
       "  <tbody>\n",
       "    <tr>\n",
       "      <th>0</th>\n",
       "      <td>[{'cast_id': 14, 'character': 'Woody (voice)',...</td>\n",
       "      <td>[{'credit_id': '52fe4284c3a36847f8024f49', 'de...</td>\n",
       "      <td>862</td>\n",
       "      <td>[Tom Hanks, Tim Allen, Don Rickles, Jim Varney...</td>\n",
       "      <td>John Lasseter</td>\n",
       "    </tr>\n",
       "    <tr>\n",
       "      <th>1</th>\n",
       "      <td>[{'cast_id': 1, 'character': 'Alan Parrish', '...</td>\n",
       "      <td>[{'credit_id': '52fe44bfc3a36847f80a7cd1', 'de...</td>\n",
       "      <td>8844</td>\n",
       "      <td>[Robin Williams, Jonathan Hyde, Kirsten Dunst,...</td>\n",
       "      <td>Joe Johnston</td>\n",
       "    </tr>\n",
       "    <tr>\n",
       "      <th>2</th>\n",
       "      <td>[{'cast_id': 2, 'character': 'Max Goldman', 'c...</td>\n",
       "      <td>[{'credit_id': '52fe466a9251416c75077a89', 'de...</td>\n",
       "      <td>15602</td>\n",
       "      <td>[Walter Matthau, Jack Lemmon, Ann-Margret, Sop...</td>\n",
       "      <td>Howard Deutch</td>\n",
       "    </tr>\n",
       "  </tbody>\n",
       "</table>\n",
       "</div>"
      ],
      "text/plain": [
       "                                                cast  \\\n",
       "0  [{'cast_id': 14, 'character': 'Woody (voice)',...   \n",
       "1  [{'cast_id': 1, 'character': 'Alan Parrish', '...   \n",
       "2  [{'cast_id': 2, 'character': 'Max Goldman', 'c...   \n",
       "\n",
       "                                                crew     id  \\\n",
       "0  [{'credit_id': '52fe4284c3a36847f8024f49', 'de...    862   \n",
       "1  [{'credit_id': '52fe44bfc3a36847f80a7cd1', 'de...   8844   \n",
       "2  [{'credit_id': '52fe466a9251416c75077a89', 'de...  15602   \n",
       "\n",
       "                                            top_cast       director  \n",
       "0  [Tom Hanks, Tim Allen, Don Rickles, Jim Varney...  John Lasseter  \n",
       "1  [Robin Williams, Jonathan Hyde, Kirsten Dunst,...   Joe Johnston  \n",
       "2  [Walter Matthau, Jack Lemmon, Ann-Margret, Sop...  Howard Deutch  "
      ]
     },
     "execution_count": 364,
     "metadata": {},
     "output_type": "execute_result"
    }
   ],
   "source": [
    "credits.head(3)"
   ]
  },
  {
   "cell_type": "code",
   "execution_count": 365,
   "id": "c98b331f",
   "metadata": {},
   "outputs": [],
   "source": [
    "credits = credits.drop(columns=['cast', 'crew'])"
   ]
  },
  {
   "cell_type": "code",
   "execution_count": 366,
   "id": "e260af0a",
   "metadata": {},
   "outputs": [
    {
     "name": "stdout",
     "output_type": "stream",
     "text": [
      "<class 'pandas.core.frame.DataFrame'>\n",
      "RangeIndex: 45476 entries, 0 to 45475\n",
      "Data columns (total 3 columns):\n",
      " #   Column    Non-Null Count  Dtype \n",
      "---  ------    --------------  ----- \n",
      " 0   id        45476 non-null  int64 \n",
      " 1   top_cast  45476 non-null  object\n",
      " 2   director  44589 non-null  object\n",
      "dtypes: int64(1), object(2)\n",
      "memory usage: 1.0+ MB\n"
     ]
    }
   ],
   "source": [
    "credits.info()"
   ]
  },
  {
   "cell_type": "code",
   "execution_count": 367,
   "id": "cdb97961",
   "metadata": {},
   "outputs": [
    {
     "data": {
      "text/plain": [
       "(45476, 3)"
      ]
     },
     "execution_count": 367,
     "metadata": {},
     "output_type": "execute_result"
    }
   ],
   "source": [
    "credits.shape"
   ]
  },
  {
   "cell_type": "code",
   "execution_count": 368,
   "id": "a2c44fcc",
   "metadata": {},
   "outputs": [
    {
     "name": "stdout",
     "output_type": "stream",
     "text": [
      "Number of duplicate IDs in credits: 44\n"
     ]
    }
   ],
   "source": [
    "# Checking for duplicate IDs in credits \n",
    "duplicate_ids = credits['id'].duplicated().sum()\n",
    "print(f\"Number of duplicate IDs in credits: {duplicate_ids}\")"
   ]
  },
  {
   "cell_type": "code",
   "execution_count": 369,
   "id": "b034afd2",
   "metadata": {},
   "outputs": [],
   "source": [
    "credits = credits.drop_duplicates('id')"
   ]
  },
  {
   "cell_type": "code",
   "execution_count": 370,
   "id": "36edc83f",
   "metadata": {},
   "outputs": [
    {
     "data": {
      "text/plain": [
       "(45432, 3)"
      ]
     },
     "execution_count": 370,
     "metadata": {},
     "output_type": "execute_result"
    }
   ],
   "source": [
    "credits.shape"
   ]
  },
  {
   "cell_type": "code",
   "execution_count": 371,
   "id": "c1fabf96",
   "metadata": {},
   "outputs": [],
   "source": [
    "# Merging the dataframes using the id column. Using a left join to only apply it to the movies rows\n",
    "movies_keywords = pd.merge(movies, keywords, left_on='id', right_on='id', how='left')\n",
    "\n",
    "movies_full = pd.merge(movies_keywords, credits, left_on='id', right_on='id', how='left')"
   ]
  },
  {
   "cell_type": "code",
   "execution_count": 372,
   "id": "a03a2b69",
   "metadata": {},
   "outputs": [
    {
     "data": {
      "text/plain": [
       "(22914, 13)"
      ]
     },
     "execution_count": 372,
     "metadata": {},
     "output_type": "execute_result"
    }
   ],
   "source": [
    "movies_full.shape"
   ]
  },
  {
   "cell_type": "code",
   "execution_count": 373,
   "id": "1bacb10e",
   "metadata": {},
   "outputs": [
    {
     "data": {
      "text/html": [
       "<div>\n",
       "<style scoped>\n",
       "    .dataframe tbody tr th:only-of-type {\n",
       "        vertical-align: middle;\n",
       "    }\n",
       "\n",
       "    .dataframe tbody tr th {\n",
       "        vertical-align: top;\n",
       "    }\n",
       "\n",
       "    .dataframe thead th {\n",
       "        text-align: right;\n",
       "    }\n",
       "</style>\n",
       "<table border=\"1\" class=\"dataframe\">\n",
       "  <thead>\n",
       "    <tr style=\"text-align: right;\">\n",
       "      <th></th>\n",
       "      <th>budget</th>\n",
       "      <th>genres</th>\n",
       "      <th>id</th>\n",
       "      <th>original_language</th>\n",
       "      <th>release_date</th>\n",
       "      <th>revenue</th>\n",
       "      <th>runtime</th>\n",
       "      <th>title</th>\n",
       "      <th>vote_average</th>\n",
       "      <th>vote_count</th>\n",
       "      <th>keywords</th>\n",
       "      <th>top_cast</th>\n",
       "      <th>director</th>\n",
       "    </tr>\n",
       "  </thead>\n",
       "  <tbody>\n",
       "    <tr>\n",
       "      <th>0</th>\n",
       "      <td>30000000</td>\n",
       "      <td>[{'id': 16, 'name': 'Animation'}, {'id': 35, '...</td>\n",
       "      <td>862</td>\n",
       "      <td>en</td>\n",
       "      <td>1995-10-30</td>\n",
       "      <td>373554033.0</td>\n",
       "      <td>81.0</td>\n",
       "      <td>Toy Story</td>\n",
       "      <td>7.7</td>\n",
       "      <td>5415.0</td>\n",
       "      <td>[{'id': 931, 'name': 'jealousy'}, {'id': 4290,...</td>\n",
       "      <td>[Tom Hanks, Tim Allen, Don Rickles, Jim Varney...</td>\n",
       "      <td>John Lasseter</td>\n",
       "    </tr>\n",
       "    <tr>\n",
       "      <th>1</th>\n",
       "      <td>65000000</td>\n",
       "      <td>[{'id': 12, 'name': 'Adventure'}, {'id': 14, '...</td>\n",
       "      <td>8844</td>\n",
       "      <td>en</td>\n",
       "      <td>1995-12-15</td>\n",
       "      <td>262797249.0</td>\n",
       "      <td>104.0</td>\n",
       "      <td>Jumanji</td>\n",
       "      <td>6.9</td>\n",
       "      <td>2413.0</td>\n",
       "      <td>[{'id': 10090, 'name': 'board game'}, {'id': 1...</td>\n",
       "      <td>[Robin Williams, Jonathan Hyde, Kirsten Dunst,...</td>\n",
       "      <td>Joe Johnston</td>\n",
       "    </tr>\n",
       "    <tr>\n",
       "      <th>2</th>\n",
       "      <td>0</td>\n",
       "      <td>[{'id': 10749, 'name': 'Romance'}, {'id': 35, ...</td>\n",
       "      <td>15602</td>\n",
       "      <td>en</td>\n",
       "      <td>1995-12-22</td>\n",
       "      <td>0.0</td>\n",
       "      <td>101.0</td>\n",
       "      <td>Grumpier Old Men</td>\n",
       "      <td>6.5</td>\n",
       "      <td>92.0</td>\n",
       "      <td>[{'id': 1495, 'name': 'fishing'}, {'id': 12392...</td>\n",
       "      <td>[Walter Matthau, Jack Lemmon, Ann-Margret, Sop...</td>\n",
       "      <td>Howard Deutch</td>\n",
       "    </tr>\n",
       "  </tbody>\n",
       "</table>\n",
       "</div>"
      ],
      "text/plain": [
       "     budget                                             genres     id  \\\n",
       "0  30000000  [{'id': 16, 'name': 'Animation'}, {'id': 35, '...    862   \n",
       "1  65000000  [{'id': 12, 'name': 'Adventure'}, {'id': 14, '...   8844   \n",
       "2         0  [{'id': 10749, 'name': 'Romance'}, {'id': 35, ...  15602   \n",
       "\n",
       "  original_language release_date      revenue  runtime             title  \\\n",
       "0                en   1995-10-30  373554033.0     81.0         Toy Story   \n",
       "1                en   1995-12-15  262797249.0    104.0           Jumanji   \n",
       "2                en   1995-12-22          0.0    101.0  Grumpier Old Men   \n",
       "\n",
       "   vote_average  vote_count  \\\n",
       "0           7.7      5415.0   \n",
       "1           6.9      2413.0   \n",
       "2           6.5        92.0   \n",
       "\n",
       "                                            keywords  \\\n",
       "0  [{'id': 931, 'name': 'jealousy'}, {'id': 4290,...   \n",
       "1  [{'id': 10090, 'name': 'board game'}, {'id': 1...   \n",
       "2  [{'id': 1495, 'name': 'fishing'}, {'id': 12392...   \n",
       "\n",
       "                                            top_cast       director  \n",
       "0  [Tom Hanks, Tim Allen, Don Rickles, Jim Varney...  John Lasseter  \n",
       "1  [Robin Williams, Jonathan Hyde, Kirsten Dunst,...   Joe Johnston  \n",
       "2  [Walter Matthau, Jack Lemmon, Ann-Margret, Sop...  Howard Deutch  "
      ]
     },
     "execution_count": 373,
     "metadata": {},
     "output_type": "execute_result"
    }
   ],
   "source": [
    "movies_full.head(3)"
   ]
  },
  {
   "cell_type": "markdown",
   "id": "ad006475",
   "metadata": {},
   "source": [
    "Since the 'genres' and 'keywords' columns are still JSON objects, I will be extracting the names alone for them for future processing"
   ]
  },
  {
   "cell_type": "code",
   "execution_count": 375,
   "id": "4366e797",
   "metadata": {},
   "outputs": [],
   "source": [
    "# Extracting genre names from the genres column\n",
    "def extract_genres(genre_data):\n",
    "    if isinstance(genre_data, str):\n",
    "        try:\n",
    "            genres = ast.literal_eval(genre_data)\n",
    "            return [genre['name'] for genre in genres]\n",
    "        except (ValueError, SyntaxError):\n",
    "            return []\n",
    "    elif isinstance(genre_data, list):\n",
    "        return [genre['name'] for genre in genre_data]\n",
    "    return []\n",
    "\n",
    "movies_full['genre_names'] = movies_full['genres'].apply(extract_genres)"
   ]
  },
  {
   "cell_type": "code",
   "execution_count": 376,
   "id": "375b9ff8",
   "metadata": {},
   "outputs": [
    {
     "data": {
      "text/html": [
       "<div>\n",
       "<style scoped>\n",
       "    .dataframe tbody tr th:only-of-type {\n",
       "        vertical-align: middle;\n",
       "    }\n",
       "\n",
       "    .dataframe tbody tr th {\n",
       "        vertical-align: top;\n",
       "    }\n",
       "\n",
       "    .dataframe thead th {\n",
       "        text-align: right;\n",
       "    }\n",
       "</style>\n",
       "<table border=\"1\" class=\"dataframe\">\n",
       "  <thead>\n",
       "    <tr style=\"text-align: right;\">\n",
       "      <th></th>\n",
       "      <th>budget</th>\n",
       "      <th>genres</th>\n",
       "      <th>id</th>\n",
       "      <th>original_language</th>\n",
       "      <th>release_date</th>\n",
       "      <th>revenue</th>\n",
       "      <th>runtime</th>\n",
       "      <th>title</th>\n",
       "      <th>vote_average</th>\n",
       "      <th>vote_count</th>\n",
       "      <th>keywords</th>\n",
       "      <th>top_cast</th>\n",
       "      <th>director</th>\n",
       "      <th>genre_names</th>\n",
       "    </tr>\n",
       "  </thead>\n",
       "  <tbody>\n",
       "    <tr>\n",
       "      <th>0</th>\n",
       "      <td>30000000</td>\n",
       "      <td>[{'id': 16, 'name': 'Animation'}, {'id': 35, '...</td>\n",
       "      <td>862</td>\n",
       "      <td>en</td>\n",
       "      <td>1995-10-30</td>\n",
       "      <td>373554033.0</td>\n",
       "      <td>81.0</td>\n",
       "      <td>Toy Story</td>\n",
       "      <td>7.7</td>\n",
       "      <td>5415.0</td>\n",
       "      <td>[{'id': 931, 'name': 'jealousy'}, {'id': 4290,...</td>\n",
       "      <td>[Tom Hanks, Tim Allen, Don Rickles, Jim Varney...</td>\n",
       "      <td>John Lasseter</td>\n",
       "      <td>[Animation, Comedy, Family]</td>\n",
       "    </tr>\n",
       "  </tbody>\n",
       "</table>\n",
       "</div>"
      ],
      "text/plain": [
       "     budget                                             genres   id  \\\n",
       "0  30000000  [{'id': 16, 'name': 'Animation'}, {'id': 35, '...  862   \n",
       "\n",
       "  original_language release_date      revenue  runtime      title  \\\n",
       "0                en   1995-10-30  373554033.0     81.0  Toy Story   \n",
       "\n",
       "   vote_average  vote_count  \\\n",
       "0           7.7      5415.0   \n",
       "\n",
       "                                            keywords  \\\n",
       "0  [{'id': 931, 'name': 'jealousy'}, {'id': 4290,...   \n",
       "\n",
       "                                            top_cast       director  \\\n",
       "0  [Tom Hanks, Tim Allen, Don Rickles, Jim Varney...  John Lasseter   \n",
       "\n",
       "                   genre_names  \n",
       "0  [Animation, Comedy, Family]  "
      ]
     },
     "execution_count": 376,
     "metadata": {},
     "output_type": "execute_result"
    }
   ],
   "source": [
    "# Checking if it added the extra column 'genre_names'\n",
    "movies_full.head(1)"
   ]
  },
  {
   "cell_type": "code",
   "execution_count": 377,
   "id": "2fe977e1",
   "metadata": {},
   "outputs": [],
   "source": [
    "# Dropping the original genres column and renaming the new one to genres\n",
    "movies_full = movies_full.drop(columns=['genres'])\n",
    "movies_full = movies_full.rename(columns={'genre_names': 'genres'})"
   ]
  },
  {
   "cell_type": "code",
   "execution_count": 378,
   "id": "088b4b1b",
   "metadata": {},
   "outputs": [
    {
     "data": {
      "text/html": [
       "<div>\n",
       "<style scoped>\n",
       "    .dataframe tbody tr th:only-of-type {\n",
       "        vertical-align: middle;\n",
       "    }\n",
       "\n",
       "    .dataframe tbody tr th {\n",
       "        vertical-align: top;\n",
       "    }\n",
       "\n",
       "    .dataframe thead th {\n",
       "        text-align: right;\n",
       "    }\n",
       "</style>\n",
       "<table border=\"1\" class=\"dataframe\">\n",
       "  <thead>\n",
       "    <tr style=\"text-align: right;\">\n",
       "      <th></th>\n",
       "      <th>budget</th>\n",
       "      <th>id</th>\n",
       "      <th>original_language</th>\n",
       "      <th>release_date</th>\n",
       "      <th>revenue</th>\n",
       "      <th>runtime</th>\n",
       "      <th>title</th>\n",
       "      <th>vote_average</th>\n",
       "      <th>vote_count</th>\n",
       "      <th>keywords</th>\n",
       "      <th>top_cast</th>\n",
       "      <th>director</th>\n",
       "      <th>genres</th>\n",
       "    </tr>\n",
       "  </thead>\n",
       "  <tbody>\n",
       "    <tr>\n",
       "      <th>0</th>\n",
       "      <td>30000000</td>\n",
       "      <td>862</td>\n",
       "      <td>en</td>\n",
       "      <td>1995-10-30</td>\n",
       "      <td>373554033.0</td>\n",
       "      <td>81.0</td>\n",
       "      <td>Toy Story</td>\n",
       "      <td>7.7</td>\n",
       "      <td>5415.0</td>\n",
       "      <td>[{'id': 931, 'name': 'jealousy'}, {'id': 4290,...</td>\n",
       "      <td>[Tom Hanks, Tim Allen, Don Rickles, Jim Varney...</td>\n",
       "      <td>John Lasseter</td>\n",
       "      <td>[Animation, Comedy, Family]</td>\n",
       "    </tr>\n",
       "  </tbody>\n",
       "</table>\n",
       "</div>"
      ],
      "text/plain": [
       "     budget   id original_language release_date      revenue  runtime  \\\n",
       "0  30000000  862                en   1995-10-30  373554033.0     81.0   \n",
       "\n",
       "       title  vote_average  vote_count  \\\n",
       "0  Toy Story           7.7      5415.0   \n",
       "\n",
       "                                            keywords  \\\n",
       "0  [{'id': 931, 'name': 'jealousy'}, {'id': 4290,...   \n",
       "\n",
       "                                            top_cast       director  \\\n",
       "0  [Tom Hanks, Tim Allen, Don Rickles, Jim Varney...  John Lasseter   \n",
       "\n",
       "                        genres  \n",
       "0  [Animation, Comedy, Family]  "
      ]
     },
     "execution_count": 378,
     "metadata": {},
     "output_type": "execute_result"
    }
   ],
   "source": [
    "movies_full.head(1)"
   ]
  },
  {
   "cell_type": "code",
   "execution_count": 379,
   "id": "93e44ce1",
   "metadata": {},
   "outputs": [],
   "source": [
    "# Extracting keyword names from the keywords column\n",
    "def extract_keywords(keyword_data):\n",
    "    if isinstance(keyword_data, str):\n",
    "        try:\n",
    "            keywords = ast.literal_eval(keyword_data)\n",
    "            return [keyword['name'] for keyword in keywords]\n",
    "        except (ValueError, SyntaxError):\n",
    "            return []\n",
    "    elif isinstance(keyword_data, list):\n",
    "        return [keyword['name'] for keyword in keyword_data]\n",
    "    return []\n",
    "\n",
    "movies_full['keyword_names'] = movies_full['keywords'].apply(extract_keywords)"
   ]
  },
  {
   "cell_type": "code",
   "execution_count": 380,
   "id": "95717e23",
   "metadata": {},
   "outputs": [
    {
     "data": {
      "text/html": [
       "<div>\n",
       "<style scoped>\n",
       "    .dataframe tbody tr th:only-of-type {\n",
       "        vertical-align: middle;\n",
       "    }\n",
       "\n",
       "    .dataframe tbody tr th {\n",
       "        vertical-align: top;\n",
       "    }\n",
       "\n",
       "    .dataframe thead th {\n",
       "        text-align: right;\n",
       "    }\n",
       "</style>\n",
       "<table border=\"1\" class=\"dataframe\">\n",
       "  <thead>\n",
       "    <tr style=\"text-align: right;\">\n",
       "      <th></th>\n",
       "      <th>budget</th>\n",
       "      <th>id</th>\n",
       "      <th>original_language</th>\n",
       "      <th>release_date</th>\n",
       "      <th>revenue</th>\n",
       "      <th>runtime</th>\n",
       "      <th>title</th>\n",
       "      <th>vote_average</th>\n",
       "      <th>vote_count</th>\n",
       "      <th>keywords</th>\n",
       "      <th>top_cast</th>\n",
       "      <th>director</th>\n",
       "      <th>genres</th>\n",
       "      <th>keyword_names</th>\n",
       "    </tr>\n",
       "  </thead>\n",
       "  <tbody>\n",
       "    <tr>\n",
       "      <th>0</th>\n",
       "      <td>30000000</td>\n",
       "      <td>862</td>\n",
       "      <td>en</td>\n",
       "      <td>1995-10-30</td>\n",
       "      <td>373554033.0</td>\n",
       "      <td>81.0</td>\n",
       "      <td>Toy Story</td>\n",
       "      <td>7.7</td>\n",
       "      <td>5415.0</td>\n",
       "      <td>[{'id': 931, 'name': 'jealousy'}, {'id': 4290,...</td>\n",
       "      <td>[Tom Hanks, Tim Allen, Don Rickles, Jim Varney...</td>\n",
       "      <td>John Lasseter</td>\n",
       "      <td>[Animation, Comedy, Family]</td>\n",
       "      <td>[jealousy, toy, boy, friendship, friends, riva...</td>\n",
       "    </tr>\n",
       "  </tbody>\n",
       "</table>\n",
       "</div>"
      ],
      "text/plain": [
       "     budget   id original_language release_date      revenue  runtime  \\\n",
       "0  30000000  862                en   1995-10-30  373554033.0     81.0   \n",
       "\n",
       "       title  vote_average  vote_count  \\\n",
       "0  Toy Story           7.7      5415.0   \n",
       "\n",
       "                                            keywords  \\\n",
       "0  [{'id': 931, 'name': 'jealousy'}, {'id': 4290,...   \n",
       "\n",
       "                                            top_cast       director  \\\n",
       "0  [Tom Hanks, Tim Allen, Don Rickles, Jim Varney...  John Lasseter   \n",
       "\n",
       "                        genres  \\\n",
       "0  [Animation, Comedy, Family]   \n",
       "\n",
       "                                       keyword_names  \n",
       "0  [jealousy, toy, boy, friendship, friends, riva...  "
      ]
     },
     "execution_count": 380,
     "metadata": {},
     "output_type": "execute_result"
    }
   ],
   "source": [
    "# Checking if it added the extra column 'keyword_names'\n",
    "movies_full.head(1)"
   ]
  },
  {
   "cell_type": "code",
   "execution_count": 381,
   "id": "8967ea91",
   "metadata": {},
   "outputs": [],
   "source": [
    "# Dropping the original keywords column and renaming the new one to keywords\n",
    "movies_full = movies_full.drop(columns=['keywords'])\n",
    "movies_full = movies_full.rename(columns={'keyword_names': 'keywords'})"
   ]
  },
  {
   "cell_type": "code",
   "execution_count": 382,
   "id": "ca93a896",
   "metadata": {},
   "outputs": [
    {
     "data": {
      "text/html": [
       "<div>\n",
       "<style scoped>\n",
       "    .dataframe tbody tr th:only-of-type {\n",
       "        vertical-align: middle;\n",
       "    }\n",
       "\n",
       "    .dataframe tbody tr th {\n",
       "        vertical-align: top;\n",
       "    }\n",
       "\n",
       "    .dataframe thead th {\n",
       "        text-align: right;\n",
       "    }\n",
       "</style>\n",
       "<table border=\"1\" class=\"dataframe\">\n",
       "  <thead>\n",
       "    <tr style=\"text-align: right;\">\n",
       "      <th></th>\n",
       "      <th>budget</th>\n",
       "      <th>id</th>\n",
       "      <th>original_language</th>\n",
       "      <th>release_date</th>\n",
       "      <th>revenue</th>\n",
       "      <th>runtime</th>\n",
       "      <th>title</th>\n",
       "      <th>vote_average</th>\n",
       "      <th>vote_count</th>\n",
       "      <th>top_cast</th>\n",
       "      <th>director</th>\n",
       "      <th>genres</th>\n",
       "      <th>keywords</th>\n",
       "    </tr>\n",
       "  </thead>\n",
       "  <tbody>\n",
       "    <tr>\n",
       "      <th>0</th>\n",
       "      <td>30000000</td>\n",
       "      <td>862</td>\n",
       "      <td>en</td>\n",
       "      <td>1995-10-30</td>\n",
       "      <td>373554033.0</td>\n",
       "      <td>81.0</td>\n",
       "      <td>Toy Story</td>\n",
       "      <td>7.7</td>\n",
       "      <td>5415.0</td>\n",
       "      <td>[Tom Hanks, Tim Allen, Don Rickles, Jim Varney...</td>\n",
       "      <td>John Lasseter</td>\n",
       "      <td>[Animation, Comedy, Family]</td>\n",
       "      <td>[jealousy, toy, boy, friendship, friends, riva...</td>\n",
       "    </tr>\n",
       "  </tbody>\n",
       "</table>\n",
       "</div>"
      ],
      "text/plain": [
       "     budget   id original_language release_date      revenue  runtime  \\\n",
       "0  30000000  862                en   1995-10-30  373554033.0     81.0   \n",
       "\n",
       "       title  vote_average  vote_count  \\\n",
       "0  Toy Story           7.7      5415.0   \n",
       "\n",
       "                                            top_cast       director  \\\n",
       "0  [Tom Hanks, Tim Allen, Don Rickles, Jim Varney...  John Lasseter   \n",
       "\n",
       "                        genres  \\\n",
       "0  [Animation, Comedy, Family]   \n",
       "\n",
       "                                            keywords  \n",
       "0  [jealousy, toy, boy, friendship, friends, riva...  "
      ]
     },
     "execution_count": 382,
     "metadata": {},
     "output_type": "execute_result"
    }
   ],
   "source": [
    "movies_full.head(1)"
   ]
  },
  {
   "cell_type": "code",
   "execution_count": 383,
   "id": "f350911d",
   "metadata": {},
   "outputs": [
    {
     "name": "stdout",
     "output_type": "stream",
     "text": [
      "genres:\n",
      "<class 'list'>\n",
      "['Animation', 'Comedy', 'Family']\n",
      "<class 'str'>\n",
      "\n",
      "top_cast:\n",
      "<class 'list'>\n",
      "['Tom Hanks', 'Tim Allen', 'Don Rickles', 'Jim Varney', 'Wallace Shawn']\n",
      "<class 'str'>\n",
      "\n",
      "keywords:\n",
      "<class 'list'>\n",
      "['jealousy', 'toy', 'boy', 'friendship', 'friends', 'rivalry', 'boy next door', 'new toy', 'toy comes to life']\n",
      "<class 'str'>\n"
     ]
    }
   ],
   "source": [
    "# Checking if genres, top_cast, and keywords are all the same type\n",
    "print(\"genres:\")\n",
    "print(type(movies_full.loc[0, 'genres']))\n",
    "print(movies_full.loc[0, 'genres'])\n",
    "print(type(movies_full.loc[0, 'genres'][0]))\n",
    "\n",
    "print(\"\\ntop_cast:\")\n",
    "print(type(movies_full.loc[0, 'top_cast']))\n",
    "print(movies_full.loc[0, 'top_cast'])\n",
    "print(type(movies_full.loc[0, 'top_cast'][0]))\n",
    "\n",
    "print(\"\\nkeywords:\")\n",
    "print(type(movies_full.loc[0, 'keywords']))\n",
    "print(movies_full.loc[0, 'keywords'])\n",
    "print(type(movies_full.loc[0, 'keywords'][0]))"
   ]
  },
  {
   "cell_type": "code",
   "execution_count": null,
   "id": "d3541800",
   "metadata": {},
   "outputs": [],
   "source": [
    "# Since the top_cast is a str class I'll convert it to a list so it can be processed the same \n",
    "# if isinstance(movies_full.loc[0, 'top_cast'], str):\n",
    "#     movies_full['top_cast'] = movies_full['top_cast'].apply(ast.literal_eval)\n",
    "\n",
    "# print(\"\\ntop_cast:\")\n",
    "# print(type(movies_full.loc[0, 'top_cast']))\n",
    "# print(movies_full.loc[0, 'top_cast'])\n",
    "# print(type(movies_full.loc[0, 'top_cast'][0]))"
   ]
  },
  {
   "cell_type": "code",
   "execution_count": 384,
   "id": "7710f6a6",
   "metadata": {},
   "outputs": [],
   "source": [
    "# Momentarily converting the lists to tuples to check for duplicates\n",
    "for col in ['genres', 'keywords', 'top_cast']:\n",
    "    movies_full[col] = movies_full[col].apply(lambda x: tuple(x) if isinstance(x, list) else x)"
   ]
  },
  {
   "cell_type": "code",
   "execution_count": 385,
   "id": "6ded6567",
   "metadata": {},
   "outputs": [
    {
     "data": {
      "text/plain": [
       "budget                0\n",
       "id                    0\n",
       "original_language     0\n",
       "release_date          0\n",
       "revenue               0\n",
       "runtime               0\n",
       "title                 0\n",
       "vote_average          0\n",
       "vote_count            0\n",
       "top_cast              0\n",
       "director             74\n",
       "genres                0\n",
       "keywords              0\n",
       "dtype: int64"
      ]
     },
     "execution_count": 385,
     "metadata": {},
     "output_type": "execute_result"
    }
   ],
   "source": [
    "# Checking for missing values in all columns after merges and column changes\n",
    "movies_full.isnull().sum()"
   ]
  },
  {
   "cell_type": "code",
   "execution_count": 386,
   "id": "9157fb92",
   "metadata": {},
   "outputs": [],
   "source": [
    "# Removing them from the dataframe\n",
    "movies_full.dropna(inplace=True)"
   ]
  },
  {
   "cell_type": "code",
   "execution_count": 387,
   "id": "e9cdf944",
   "metadata": {},
   "outputs": [
    {
     "data": {
      "text/plain": [
       "(22840, 13)"
      ]
     },
     "execution_count": 387,
     "metadata": {},
     "output_type": "execute_result"
    }
   ],
   "source": [
    "movies_full.shape"
   ]
  },
  {
   "cell_type": "code",
   "execution_count": null,
   "id": "ec70b010",
   "metadata": {},
   "outputs": [
    {
     "name": "stdout",
     "output_type": "stream",
     "text": [
      "Number of duplicate rows: 14\n",
      "Number of duplicate rows: 0\n"
     ]
    }
   ],
   "source": [
    "# Checking for duplicates and dropping them if any exists\n",
    "duplicates = movies_full.duplicated().sum()\n",
    "print(f\"Number of duplicate rows: {duplicates}\")\n",
    "\n",
    "movies_full = movies_full.drop_duplicates().reset_index(drop=True)\n",
    "duplicates = movies_full.duplicated().sum()\n",
    "print(f\"Number of duplicate rows after removal: {duplicates}\")"
   ]
  },
  {
   "cell_type": "code",
   "execution_count": 389,
   "id": "23ab0bb3",
   "metadata": {},
   "outputs": [],
   "source": [
    "# Converting the columns back to lists\n",
    "for col in ['genres', 'keywords', 'top_cast']:\n",
    "    movies_full[col] = movies_full[col].apply(lambda x: list(x) if isinstance(x, tuple) else x)"
   ]
  },
  {
   "cell_type": "code",
   "execution_count": 390,
   "id": "403450be",
   "metadata": {},
   "outputs": [
    {
     "data": {
      "text/plain": [
       "(22826, 13)"
      ]
     },
     "execution_count": 390,
     "metadata": {},
     "output_type": "execute_result"
    }
   ],
   "source": [
    "movies_full.shape"
   ]
  },
  {
   "cell_type": "code",
   "execution_count": 391,
   "id": "8618c337",
   "metadata": {},
   "outputs": [
    {
     "data": {
      "text/html": [
       "<div>\n",
       "<style scoped>\n",
       "    .dataframe tbody tr th:only-of-type {\n",
       "        vertical-align: middle;\n",
       "    }\n",
       "\n",
       "    .dataframe tbody tr th {\n",
       "        vertical-align: top;\n",
       "    }\n",
       "\n",
       "    .dataframe thead th {\n",
       "        text-align: right;\n",
       "    }\n",
       "</style>\n",
       "<table border=\"1\" class=\"dataframe\">\n",
       "  <thead>\n",
       "    <tr style=\"text-align: right;\">\n",
       "      <th></th>\n",
       "      <th>budget</th>\n",
       "      <th>id</th>\n",
       "      <th>original_language</th>\n",
       "      <th>release_date</th>\n",
       "      <th>revenue</th>\n",
       "      <th>runtime</th>\n",
       "      <th>title</th>\n",
       "      <th>vote_average</th>\n",
       "      <th>vote_count</th>\n",
       "      <th>top_cast</th>\n",
       "      <th>director</th>\n",
       "      <th>genres</th>\n",
       "      <th>keywords</th>\n",
       "    </tr>\n",
       "  </thead>\n",
       "  <tbody>\n",
       "    <tr>\n",
       "      <th>0</th>\n",
       "      <td>30000000</td>\n",
       "      <td>862</td>\n",
       "      <td>en</td>\n",
       "      <td>1995-10-30</td>\n",
       "      <td>373554033.0</td>\n",
       "      <td>81.0</td>\n",
       "      <td>Toy Story</td>\n",
       "      <td>7.7</td>\n",
       "      <td>5415.0</td>\n",
       "      <td>[Tom Hanks, Tim Allen, Don Rickles, Jim Varney...</td>\n",
       "      <td>John Lasseter</td>\n",
       "      <td>[Animation, Comedy, Family]</td>\n",
       "      <td>[jealousy, toy, boy, friendship, friends, riva...</td>\n",
       "    </tr>\n",
       "  </tbody>\n",
       "</table>\n",
       "</div>"
      ],
      "text/plain": [
       "     budget   id original_language release_date      revenue  runtime  \\\n",
       "0  30000000  862                en   1995-10-30  373554033.0     81.0   \n",
       "\n",
       "       title  vote_average  vote_count  \\\n",
       "0  Toy Story           7.7      5415.0   \n",
       "\n",
       "                                            top_cast       director  \\\n",
       "0  [Tom Hanks, Tim Allen, Don Rickles, Jim Varney...  John Lasseter   \n",
       "\n",
       "                        genres  \\\n",
       "0  [Animation, Comedy, Family]   \n",
       "\n",
       "                                            keywords  \n",
       "0  [jealousy, toy, boy, friendship, friends, riva...  "
      ]
     },
     "execution_count": 391,
     "metadata": {},
     "output_type": "execute_result"
    }
   ],
   "source": [
    "movies_full.head(1)"
   ]
  },
  {
   "cell_type": "code",
   "execution_count": 392,
   "id": "ca0e192c",
   "metadata": {},
   "outputs": [],
   "source": [
    "# Saving the merged dataframe\n",
    "movies_full.to_csv('../data/merged_dataset.csv', index=False)"
   ]
  }
 ],
 "metadata": {
  "kernelspec": {
   "display_name": "base",
   "language": "python",
   "name": "python3"
  },
  "language_info": {
   "codemirror_mode": {
    "name": "ipython",
    "version": 3
   },
   "file_extension": ".py",
   "mimetype": "text/x-python",
   "name": "python",
   "nbconvert_exporter": "python",
   "pygments_lexer": "ipython3",
   "version": "3.12.7"
  }
 },
 "nbformat": 4,
 "nbformat_minor": 5
}
